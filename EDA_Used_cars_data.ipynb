{
  "nbformat": 4,
  "nbformat_minor": 0,
  "metadata": {
    "colab": {
      "name": "EDA_Used_cars_data.ipynb",
      "provenance": [],
      "collapsed_sections": []
    },
    "kernelspec": {
      "name": "python3",
      "display_name": "Python 3"
    }
  },
  "cells": [
    {
      "cell_type": "markdown",
      "metadata": {
        "id": "Keqt2mQT48py"
      },
      "source": [
        "## Exploratory Data Analysis on Used Cars Datset"
      ]
    },
    {
      "cell_type": "code",
      "metadata": {
        "id": "5k-tnZRK4v1P"
      },
      "source": [
        "pip install opendatasets --upgrade --quiet"
      ],
      "execution_count": null,
      "outputs": []
    },
    {
      "cell_type": "markdown",
      "metadata": {
        "id": "esp361lEG7GK"
      },
      "source": [
        "- libraries for plotting"
      ]
    },
    {
      "cell_type": "code",
      "metadata": {
        "id": "lzAi-ZXFGvTR"
      },
      "source": [
        "import matplotlib.pyplot as plt\r\n",
        "import seaborn as sns"
      ],
      "execution_count": null,
      "outputs": []
    },
    {
      "cell_type": "markdown",
      "metadata": {
        "id": "WiN1m09P44yF"
      },
      "source": [
        "## Downloading the data now"
      ]
    },
    {
      "cell_type": "code",
      "metadata": {
        "colab": {
          "base_uri": "https://localhost:8080/"
        },
        "id": "OaWcWI4E6gMs",
        "outputId": "a5a5f64d-1492-43e7-94db-33be05d9c761"
      },
      "source": [
        "import opendatasets as od\r\n",
        "\r\n",
        "data_url=\"https://www.kaggle.com/austinreese/craigslist-carstrucks-data\"\r\n",
        "\r\n",
        "od.download(data_url)"
      ],
      "execution_count": null,
      "outputs": [
        {
          "output_type": "stream",
          "text": [
            "Please provide your Kaggle credentials to download this dataset. Learn more: http://bit.ly/kaggle-creds\n",
            "Your Kaggle username: anshalsingh\n",
            "Your Kaggle Key: ··········\n"
          ],
          "name": "stdout"
        },
        {
          "output_type": "stream",
          "text": [
            "  2%|▏         | 5.00M/267M [00:00<00:08, 33.6MB/s]"
          ],
          "name": "stderr"
        },
        {
          "output_type": "stream",
          "text": [
            "Downloading craigslist-carstrucks-data.zip to ./craigslist-carstrucks-data\n"
          ],
          "name": "stdout"
        },
        {
          "output_type": "stream",
          "text": [
            "100%|██████████| 267M/267M [00:03<00:00, 90.8MB/s]\n"
          ],
          "name": "stderr"
        },
        {
          "output_type": "stream",
          "text": [
            "\n"
          ],
          "name": "stdout"
        }
      ]
    },
    {
      "cell_type": "code",
      "metadata": {
        "id": "vaSCy8My5X1a"
      },
      "source": [
        "data_filename='./craigslist-carstrucks-data/vehicles.csv'"
      ],
      "execution_count": null,
      "outputs": []
    },
    {
      "cell_type": "markdown",
      "metadata": {
        "id": "7B1BbHUV7FxU"
      },
      "source": [
        "## Data preparation and cleaning"
      ]
    },
    {
      "cell_type": "code",
      "metadata": {
        "id": "YgtwvLY_7C4o"
      },
      "source": [
        "import pandas as pd"
      ],
      "execution_count": null,
      "outputs": []
    },
    {
      "cell_type": "code",
      "metadata": {
        "id": "sCoCt_pb7LfI"
      },
      "source": [
        "df=pd.read_csv(data_filename)"
      ],
      "execution_count": null,
      "outputs": []
    },
    {
      "cell_type": "code",
      "metadata": {
        "colab": {
          "base_uri": "https://localhost:8080/",
          "height": 341
        },
        "id": "xW3LofEFComh",
        "outputId": "6e2f2cb4-590e-4e3f-bc7b-cb3dfbbf94bb"
      },
      "source": [
        "df.head(3)\r\n",
        "#dropped an unnamed column"
      ],
      "execution_count": null,
      "outputs": [
        {
          "output_type": "execute_result",
          "data": {
            "text/html": [
              "<div>\n",
              "<style scoped>\n",
              "    .dataframe tbody tr th:only-of-type {\n",
              "        vertical-align: middle;\n",
              "    }\n",
              "\n",
              "    .dataframe tbody tr th {\n",
              "        vertical-align: top;\n",
              "    }\n",
              "\n",
              "    .dataframe thead th {\n",
              "        text-align: right;\n",
              "    }\n",
              "</style>\n",
              "<table border=\"1\" class=\"dataframe\">\n",
              "  <thead>\n",
              "    <tr style=\"text-align: right;\">\n",
              "      <th></th>\n",
              "      <th>Unnamed: 0</th>\n",
              "      <th>id</th>\n",
              "      <th>url</th>\n",
              "      <th>region</th>\n",
              "      <th>region_url</th>\n",
              "      <th>price</th>\n",
              "      <th>year</th>\n",
              "      <th>manufacturer</th>\n",
              "      <th>model</th>\n",
              "      <th>condition</th>\n",
              "      <th>cylinders</th>\n",
              "      <th>fuel</th>\n",
              "      <th>odometer</th>\n",
              "      <th>title_status</th>\n",
              "      <th>transmission</th>\n",
              "      <th>VIN</th>\n",
              "      <th>drive</th>\n",
              "      <th>size</th>\n",
              "      <th>type</th>\n",
              "      <th>paint_color</th>\n",
              "      <th>image_url</th>\n",
              "      <th>description</th>\n",
              "      <th>state</th>\n",
              "      <th>lat</th>\n",
              "      <th>long</th>\n",
              "      <th>posting_date</th>\n",
              "    </tr>\n",
              "  </thead>\n",
              "  <tbody>\n",
              "    <tr>\n",
              "      <th>0</th>\n",
              "      <td>0</td>\n",
              "      <td>7240372487</td>\n",
              "      <td>https://auburn.craigslist.org/ctd/d/auburn-uni...</td>\n",
              "      <td>auburn</td>\n",
              "      <td>https://auburn.craigslist.org</td>\n",
              "      <td>35990</td>\n",
              "      <td>2010.0</td>\n",
              "      <td>chevrolet</td>\n",
              "      <td>corvette grand sport</td>\n",
              "      <td>good</td>\n",
              "      <td>8 cylinders</td>\n",
              "      <td>gas</td>\n",
              "      <td>32742.0</td>\n",
              "      <td>clean</td>\n",
              "      <td>other</td>\n",
              "      <td>1G1YU3DW1A5106980</td>\n",
              "      <td>rwd</td>\n",
              "      <td>NaN</td>\n",
              "      <td>other</td>\n",
              "      <td>NaN</td>\n",
              "      <td>https://images.craigslist.org/00N0N_ipkbHVZYf4...</td>\n",
              "      <td>Carvana is the safer way to buy a car During t...</td>\n",
              "      <td>al</td>\n",
              "      <td>32.590000</td>\n",
              "      <td>-85.480000</td>\n",
              "      <td>2020-12-02T08:11:30-0600</td>\n",
              "    </tr>\n",
              "    <tr>\n",
              "      <th>1</th>\n",
              "      <td>1</td>\n",
              "      <td>7240309422</td>\n",
              "      <td>https://auburn.craigslist.org/cto/d/auburn-201...</td>\n",
              "      <td>auburn</td>\n",
              "      <td>https://auburn.craigslist.org</td>\n",
              "      <td>7500</td>\n",
              "      <td>2014.0</td>\n",
              "      <td>hyundai</td>\n",
              "      <td>sonata</td>\n",
              "      <td>excellent</td>\n",
              "      <td>4 cylinders</td>\n",
              "      <td>gas</td>\n",
              "      <td>93600.0</td>\n",
              "      <td>clean</td>\n",
              "      <td>automatic</td>\n",
              "      <td>5NPEC4AB0EH813529</td>\n",
              "      <td>fwd</td>\n",
              "      <td>NaN</td>\n",
              "      <td>sedan</td>\n",
              "      <td>NaN</td>\n",
              "      <td>https://images.craigslist.org/00s0s_gBHYmJ5o7y...</td>\n",
              "      <td>I'll move to another city and try to sell my c...</td>\n",
              "      <td>al</td>\n",
              "      <td>32.547500</td>\n",
              "      <td>-85.468200</td>\n",
              "      <td>2020-12-02T02:11:50-0600</td>\n",
              "    </tr>\n",
              "    <tr>\n",
              "      <th>2</th>\n",
              "      <td>2</td>\n",
              "      <td>7240224296</td>\n",
              "      <td>https://auburn.craigslist.org/cto/d/auburn-200...</td>\n",
              "      <td>auburn</td>\n",
              "      <td>https://auburn.craigslist.org</td>\n",
              "      <td>4900</td>\n",
              "      <td>2006.0</td>\n",
              "      <td>bmw</td>\n",
              "      <td>x3 3.0i</td>\n",
              "      <td>good</td>\n",
              "      <td>6 cylinders</td>\n",
              "      <td>gas</td>\n",
              "      <td>87046.0</td>\n",
              "      <td>clean</td>\n",
              "      <td>automatic</td>\n",
              "      <td>NaN</td>\n",
              "      <td>NaN</td>\n",
              "      <td>NaN</td>\n",
              "      <td>SUV</td>\n",
              "      <td>blue</td>\n",
              "      <td>https://images.craigslist.org/00B0B_5zgEGWPOrt...</td>\n",
              "      <td>Clean 2006 BMW X3 3.0I.  Beautiful and rare Bl...</td>\n",
              "      <td>al</td>\n",
              "      <td>32.616807</td>\n",
              "      <td>-85.464149</td>\n",
              "      <td>2020-12-01T19:50:41-0600</td>\n",
              "    </tr>\n",
              "  </tbody>\n",
              "</table>\n",
              "</div>"
            ],
            "text/plain": [
              "   Unnamed: 0          id  ...       long              posting_date\n",
              "0           0  7240372487  ... -85.480000  2020-12-02T08:11:30-0600\n",
              "1           1  7240309422  ... -85.468200  2020-12-02T02:11:50-0600\n",
              "2           2  7240224296  ... -85.464149  2020-12-01T19:50:41-0600\n",
              "\n",
              "[3 rows x 26 columns]"
            ]
          },
          "metadata": {
            "tags": []
          },
          "execution_count": 9
        }
      ]
    },
    {
      "cell_type": "code",
      "metadata": {
        "colab": {
          "base_uri": "https://localhost:8080/"
        },
        "id": "MAwPWRCZFC0c",
        "outputId": "ad494b38-1cf5-41d3-aab8-b95451820aee"
      },
      "source": [
        "df.shape"
      ],
      "execution_count": null,
      "outputs": [
        {
          "output_type": "execute_result",
          "data": {
            "text/plain": [
              "(458213, 26)"
            ]
          },
          "metadata": {
            "tags": []
          },
          "execution_count": 10
        }
      ]
    },
    {
      "cell_type": "markdown",
      "metadata": {
        "id": "rNWCXNMTDXQB"
      },
      "source": [
        "- only Numeric columns"
      ]
    },
    {
      "cell_type": "code",
      "metadata": {
        "colab": {
          "base_uri": "https://localhost:8080/"
        },
        "id": "Owa7tvaBDNSx",
        "outputId": "c7406eef-2d7e-41ba-e151-202be1a7a6ea"
      },
      "source": [
        "import numpy as np\r\n",
        "print(df.select_dtypes(include=[np.number]).dtypes)"
      ],
      "execution_count": null,
      "outputs": [
        {
          "output_type": "stream",
          "text": [
            "Unnamed: 0      int64\n",
            "id              int64\n",
            "price           int64\n",
            "year          float64\n",
            "odometer      float64\n",
            "lat           float64\n",
            "long          float64\n",
            "dtype: object\n"
          ],
          "name": "stdout"
        }
      ]
    },
    {
      "cell_type": "code",
      "metadata": {
        "colab": {
          "base_uri": "https://localhost:8080/"
        },
        "id": "IM-L7Pbr8fLK",
        "outputId": "3043d070-192c-49a1-9dda-1a8a5ebbc7ca"
      },
      "source": [
        "df.columns"
      ],
      "execution_count": null,
      "outputs": [
        {
          "output_type": "execute_result",
          "data": {
            "text/plain": [
              "Index(['Unnamed: 0', 'id', 'url', 'region', 'region_url', 'price', 'year',\n",
              "       'manufacturer', 'model', 'condition', 'cylinders', 'fuel', 'odometer',\n",
              "       'title_status', 'transmission', 'VIN', 'drive', 'size', 'type',\n",
              "       'paint_color', 'image_url', 'description', 'state', 'lat', 'long',\n",
              "       'posting_date'],\n",
              "      dtype='object')"
            ]
          },
          "metadata": {
            "tags": []
          },
          "execution_count": 12
        }
      ]
    },
    {
      "cell_type": "code",
      "metadata": {
        "colab": {
          "base_uri": "https://localhost:8080/"
        },
        "id": "olDGdWiO8fF0",
        "outputId": "a57fa963-9ee5-4676-d39a-f0a6f7a62b00"
      },
      "source": [
        "df.info()"
      ],
      "execution_count": null,
      "outputs": [
        {
          "output_type": "stream",
          "text": [
            "<class 'pandas.core.frame.DataFrame'>\n",
            "RangeIndex: 458213 entries, 0 to 458212\n",
            "Data columns (total 26 columns):\n",
            " #   Column        Non-Null Count   Dtype  \n",
            "---  ------        --------------   -----  \n",
            " 0   Unnamed: 0    458213 non-null  int64  \n",
            " 1   id            458213 non-null  int64  \n",
            " 2   url           458213 non-null  object \n",
            " 3   region        458213 non-null  object \n",
            " 4   region_url    458213 non-null  object \n",
            " 5   price         458213 non-null  int64  \n",
            " 6   year          457163 non-null  float64\n",
            " 7   manufacturer  439993 non-null  object \n",
            " 8   model         453367 non-null  object \n",
            " 9   condition     265273 non-null  object \n",
            " 10  cylinders     287073 non-null  object \n",
            " 11  fuel          454976 non-null  object \n",
            " 12  odometer      402910 non-null  float64\n",
            " 13  title_status  455636 non-null  object \n",
            " 14  transmission  455771 non-null  object \n",
            " 15  VIN           270664 non-null  object \n",
            " 16  drive         324025 non-null  object \n",
            " 17  size          136865 non-null  object \n",
            " 18  type          345475 non-null  object \n",
            " 19  paint_color   317370 non-null  object \n",
            " 20  image_url     458185 non-null  object \n",
            " 21  description   458143 non-null  object \n",
            " 22  state         458213 non-null  object \n",
            " 23  lat           450765 non-null  float64\n",
            " 24  long          450765 non-null  float64\n",
            " 25  posting_date  458185 non-null  object \n",
            "dtypes: float64(4), int64(3), object(19)\n",
            "memory usage: 90.9+ MB\n"
          ],
          "name": "stdout"
        }
      ]
    },
    {
      "cell_type": "code",
      "metadata": {
        "colab": {
          "base_uri": "https://localhost:8080/",
          "height": 284
        },
        "id": "2pbE5Yiy9kO2",
        "outputId": "2df4ac46-e5c3-490b-a7da-68f9a891eb13"
      },
      "source": [
        "df.describe()"
      ],
      "execution_count": null,
      "outputs": [
        {
          "output_type": "execute_result",
          "data": {
            "text/html": [
              "<div>\n",
              "<style scoped>\n",
              "    .dataframe tbody tr th:only-of-type {\n",
              "        vertical-align: middle;\n",
              "    }\n",
              "\n",
              "    .dataframe tbody tr th {\n",
              "        vertical-align: top;\n",
              "    }\n",
              "\n",
              "    .dataframe thead th {\n",
              "        text-align: right;\n",
              "    }\n",
              "</style>\n",
              "<table border=\"1\" class=\"dataframe\">\n",
              "  <thead>\n",
              "    <tr style=\"text-align: right;\">\n",
              "      <th></th>\n",
              "      <th>Unnamed: 0</th>\n",
              "      <th>id</th>\n",
              "      <th>price</th>\n",
              "      <th>year</th>\n",
              "      <th>odometer</th>\n",
              "      <th>lat</th>\n",
              "      <th>long</th>\n",
              "    </tr>\n",
              "  </thead>\n",
              "  <tbody>\n",
              "    <tr>\n",
              "      <th>count</th>\n",
              "      <td>458213.000000</td>\n",
              "      <td>4.582130e+05</td>\n",
              "      <td>4.582130e+05</td>\n",
              "      <td>457163.000000</td>\n",
              "      <td>4.029100e+05</td>\n",
              "      <td>450765.000000</td>\n",
              "      <td>450765.000000</td>\n",
              "    </tr>\n",
              "    <tr>\n",
              "      <th>mean</th>\n",
              "      <td>229106.000000</td>\n",
              "      <td>7.235233e+09</td>\n",
              "      <td>4.042093e+04</td>\n",
              "      <td>2010.746067</td>\n",
              "      <td>1.016698e+05</td>\n",
              "      <td>38.531925</td>\n",
              "      <td>-94.375824</td>\n",
              "    </tr>\n",
              "    <tr>\n",
              "      <th>std</th>\n",
              "      <td>132274.843786</td>\n",
              "      <td>4.594362e+06</td>\n",
              "      <td>8.194599e+06</td>\n",
              "      <td>8.868136</td>\n",
              "      <td>3.228623e+06</td>\n",
              "      <td>5.857378</td>\n",
              "      <td>18.076225</td>\n",
              "    </tr>\n",
              "    <tr>\n",
              "      <th>min</th>\n",
              "      <td>0.000000</td>\n",
              "      <td>7.208550e+09</td>\n",
              "      <td>0.000000e+00</td>\n",
              "      <td>1900.000000</td>\n",
              "      <td>0.000000e+00</td>\n",
              "      <td>-82.607549</td>\n",
              "      <td>-164.091797</td>\n",
              "    </tr>\n",
              "    <tr>\n",
              "      <th>25%</th>\n",
              "      <td>114553.000000</td>\n",
              "      <td>7.231953e+09</td>\n",
              "      <td>4.900000e+03</td>\n",
              "      <td>2008.000000</td>\n",
              "      <td>4.087700e+04</td>\n",
              "      <td>34.600000</td>\n",
              "      <td>-110.890427</td>\n",
              "    </tr>\n",
              "    <tr>\n",
              "      <th>50%</th>\n",
              "      <td>229106.000000</td>\n",
              "      <td>7.236409e+09</td>\n",
              "      <td>1.099500e+04</td>\n",
              "      <td>2013.000000</td>\n",
              "      <td>8.764100e+04</td>\n",
              "      <td>39.244500</td>\n",
              "      <td>-88.314889</td>\n",
              "    </tr>\n",
              "    <tr>\n",
              "      <th>75%</th>\n",
              "      <td>343659.000000</td>\n",
              "      <td>7.239321e+09</td>\n",
              "      <td>2.149500e+04</td>\n",
              "      <td>2016.000000</td>\n",
              "      <td>1.340000e+05</td>\n",
              "      <td>42.484503</td>\n",
              "      <td>-81.015022</td>\n",
              "    </tr>\n",
              "    <tr>\n",
              "      <th>max</th>\n",
              "      <td>458212.000000</td>\n",
              "      <td>7.241019e+09</td>\n",
              "      <td>3.615215e+09</td>\n",
              "      <td>2021.000000</td>\n",
              "      <td>2.043756e+09</td>\n",
              "      <td>82.049255</td>\n",
              "      <td>150.898969</td>\n",
              "    </tr>\n",
              "  </tbody>\n",
              "</table>\n",
              "</div>"
            ],
            "text/plain": [
              "          Unnamed: 0            id  ...            lat           long\n",
              "count  458213.000000  4.582130e+05  ...  450765.000000  450765.000000\n",
              "mean   229106.000000  7.235233e+09  ...      38.531925     -94.375824\n",
              "std    132274.843786  4.594362e+06  ...       5.857378      18.076225\n",
              "min         0.000000  7.208550e+09  ...     -82.607549    -164.091797\n",
              "25%    114553.000000  7.231953e+09  ...      34.600000    -110.890427\n",
              "50%    229106.000000  7.236409e+09  ...      39.244500     -88.314889\n",
              "75%    343659.000000  7.239321e+09  ...      42.484503     -81.015022\n",
              "max    458212.000000  7.241019e+09  ...      82.049255     150.898969\n",
              "\n",
              "[8 rows x 7 columns]"
            ]
          },
          "metadata": {
            "tags": []
          },
          "execution_count": 14
        }
      ]
    },
    {
      "cell_type": "code",
      "metadata": {
        "colab": {
          "base_uri": "https://localhost:8080/"
        },
        "id": "g7ee2coNB-zC",
        "outputId": "d1184cde-517f-4ca6-87c2-bdbe98d6260e"
      },
      "source": [
        "df.nunique()"
      ],
      "execution_count": null,
      "outputs": [
        {
          "output_type": "execute_result",
          "data": {
            "text/plain": [
              "Unnamed: 0      458213\n",
              "id              458213\n",
              "url             458213\n",
              "region             405\n",
              "region_url         413\n",
              "price            16924\n",
              "year               110\n",
              "manufacturer        43\n",
              "model            31520\n",
              "condition            6\n",
              "cylinders            8\n",
              "fuel                 5\n",
              "odometer        108135\n",
              "title_status         6\n",
              "transmission         3\n",
              "VIN             133620\n",
              "drive                3\n",
              "size                 4\n",
              "type                13\n",
              "paint_color         12\n",
              "image_url       285404\n",
              "description     384347\n",
              "state               51\n",
              "lat              61179\n",
              "long             61559\n",
              "posting_date    423805\n",
              "dtype: int64"
            ]
          },
          "metadata": {
            "tags": []
          },
          "execution_count": 15
        }
      ]
    },
    {
      "cell_type": "markdown",
      "metadata": {
        "id": "Nb0Hdjq_-YWW"
      },
      "source": [
        "# Percentage missing values per column"
      ]
    },
    {
      "cell_type": "code",
      "metadata": {
        "colab": {
          "base_uri": "https://localhost:8080/"
        },
        "id": "IvTj4gI-9kL_",
        "outputId": "e3490de9-eea0-4c73-c87b-acf13220b672"
      },
      "source": [
        "missing_val=df.isnull().sum().sort_values(ascending=False)/len(df)\r\n",
        "missing_val"
      ],
      "execution_count": null,
      "outputs": [
        {
          "output_type": "execute_result",
          "data": {
            "text/plain": [
              "size            0.701307\n",
              "condition       0.421071\n",
              "VIN             0.409305\n",
              "cylinders       0.373494\n",
              "paint_color     0.307375\n",
              "drive           0.292851\n",
              "type            0.246038\n",
              "odometer        0.120693\n",
              "manufacturer    0.039763\n",
              "lat             0.016254\n",
              "long            0.016254\n",
              "model           0.010576\n",
              "fuel            0.007064\n",
              "title_status    0.005624\n",
              "transmission    0.005329\n",
              "year            0.002292\n",
              "description     0.000153\n",
              "posting_date    0.000061\n",
              "image_url       0.000061\n",
              "state           0.000000\n",
              "price           0.000000\n",
              "region_url      0.000000\n",
              "region          0.000000\n",
              "url             0.000000\n",
              "id              0.000000\n",
              "Unnamed: 0      0.000000\n",
              "dtype: float64"
            ]
          },
          "metadata": {
            "tags": []
          },
          "execution_count": 16
        }
      ]
    },
    {
      "cell_type": "markdown",
      "metadata": {
        "id": "pgPTsghL-zAq"
      },
      "source": [
        "#Graph of missing values that are not zero\r\n",
        "- Also getting the type of missing_val"
      ]
    },
    {
      "cell_type": "code",
      "metadata": {
        "colab": {
          "base_uri": "https://localhost:8080/",
          "height": 320
        },
        "id": "R5QpyUYo9kJG",
        "outputId": "33467a63-e938-45f2-cc26-5e60fe3e39f6"
      },
      "source": [
        "plt.figure(figsize=(10,5))\r\n",
        "missing_val[missing_val!=0].plot(kind='barh',color=\"red\")\r\n",
        "plt.show()"
      ],
      "execution_count": null,
      "outputs": [
        {
          "output_type": "display_data",
          "data": {
            "image/png": "[encoded data removed]",
            "text/plain": [
              "<Figure size 720x360 with 1 Axes>"
            ]
          },
          "metadata": {
            "tags": [],
            "needs_background": "light"
          }
        }
      ]
    },
    {
      "cell_type": "code",
      "metadata": {
        "colab": {
          "base_uri": "https://localhost:8080/"
        },
        "id": "9CRK3hZJ9kGN",
        "outputId": "116234ac-fa3d-4684-f27b-28f9b0a0f5d3"
      },
      "source": [
        "type(missing_val)"
      ],
      "execution_count": null,
      "outputs": [
        {
          "output_type": "execute_result",
          "data": {
            "text/plain": [
              "pandas.core.series.Series"
            ]
          },
          "metadata": {
            "tags": []
          },
          "execution_count": 18
        }
      ]
    },
    {
      "cell_type": "markdown",
      "metadata": {
        "id": "LeFW21QEBPIl"
      },
      "source": [
        "##Exploratory Data Analysis\r\n",
        "### Use the columns:(by alooking at the dataset)\r\n",
        "- Craiglist region\r\n",
        "- Entry Price\r\n",
        "- Entry year\r\n",
        "- Manufacturer of vehicle\r\n",
        "- Condition of vehicle\r\n",
        "- Latitude and Longitude"
      ]
    },
    {
      "cell_type": "code",
      "metadata": {
        "colab": {
          "base_uri": "https://localhost:8080/"
        },
        "id": "dLUKNRqcBDwz",
        "outputId": "8c9676e3-5832-4f23-a8b2-be3e2b3db51d"
      },
      "source": [
        "df.columns"
      ],
      "execution_count": null,
      "outputs": [
        {
          "output_type": "execute_result",
          "data": {
            "text/plain": [
              "Index(['Unnamed: 0', 'id', 'url', 'region', 'region_url', 'price', 'year',\n",
              "       'manufacturer', 'model', 'condition', 'cylinders', 'fuel', 'odometer',\n",
              "       'title_status', 'transmission', 'VIN', 'drive', 'size', 'type',\n",
              "       'paint_color', 'image_url', 'description', 'state', 'lat', 'long',\n",
              "       'posting_date'],\n",
              "      dtype='object')"
            ]
          },
          "metadata": {
            "tags": []
          },
          "execution_count": 19
        }
      ]
    },
    {
      "cell_type": "markdown",
      "metadata": {
        "id": "7wbYJ7axMT3k"
      },
      "source": [
        "## Region Column"
      ]
    },
    {
      "cell_type": "code",
      "metadata": {
        "colab": {
          "base_uri": "https://localhost:8080/"
        },
        "id": "-fbxoP9hBDt9",
        "outputId": "f6f71ab9-8850-46fc-93cd-95156a68a5a7"
      },
      "source": [
        "df.region"
      ],
      "execution_count": null,
      "outputs": [
        {
          "output_type": "execute_result",
          "data": {
            "text/plain": [
              "0          auburn\n",
              "1          auburn\n",
              "2          auburn\n",
              "3          auburn\n",
              "4          auburn\n",
              "           ...   \n",
              "458208     wausau\n",
              "458209     wausau\n",
              "458210    wyoming\n",
              "458211    wyoming\n",
              "458212    wyoming\n",
              "Name: region, Length: 458213, dtype: object"
            ]
          },
          "metadata": {
            "tags": []
          },
          "execution_count": 20
        }
      ]
    },
    {
      "cell_type": "code",
      "metadata": {
        "colab": {
          "base_uri": "https://localhost:8080/"
        },
        "id": "6fgsGW0sBDqk",
        "outputId": "32698b41-2cb7-4bc3-a52c-f1f32e15a029"
      },
      "source": [
        "#Unique no of regions\r\n",
        "un_region=df.region.unique()\r\n",
        "len(un_region)"
      ],
      "execution_count": null,
      "outputs": [
        {
          "output_type": "execute_result",
          "data": {
            "text/plain": [
              "405"
            ]
          },
          "metadata": {
            "tags": []
          },
          "execution_count": 21
        }
      ]
    },
    {
      "cell_type": "markdown",
      "metadata": {
        "id": "dNhmT_69F_ug"
      },
      "source": [
        "- Listing **according** to the region"
      ]
    },
    {
      "cell_type": "code",
      "metadata": {
        "colab": {
          "base_uri": "https://localhost:8080/"
        },
        "id": "Y4u5uSNsBDoH",
        "outputId": "89e79693-590c-4e58-bc10-7f0c95db3885"
      },
      "source": [
        "region_by_no=df.region.value_counts()\r\n",
        "region_by_no"
      ],
      "execution_count": null,
      "outputs": [
        {
          "output_type": "execute_result",
          "data": {
            "text/plain": [
              "columbus               3818\n",
              "rochester              3592\n",
              "jacksonville           3504\n",
              "springfield            3293\n",
              "fayetteville           2990\n",
              "                       ... \n",
              "siskiyou county          28\n",
              "susanville               17\n",
              "fort smith, AR           11\n",
              "west virginia (old)      11\n",
              "sioux city, IA            1\n",
              "Name: region, Length: 405, dtype: int64"
            ]
          },
          "metadata": {
            "tags": []
          },
          "execution_count": 22
        }
      ]
    },
    {
      "cell_type": "code",
      "metadata": {
        "colab": {
          "base_uri": "https://localhost:8080/"
        },
        "id": "TgSseOQmBDk0",
        "outputId": "ac1bcf5f-54c6-4b71-d562-7c155016154e"
      },
      "source": [
        "#top 20\r\n",
        "region_by_no[:21]"
      ],
      "execution_count": null,
      "outputs": [
        {
          "output_type": "execute_result",
          "data": {
            "text/plain": [
              "columbus                    3818\n",
              "rochester                   3592\n",
              "jacksonville                3504\n",
              "springfield                 3293\n",
              "fayetteville                2990\n",
              "bend                        2989\n",
              "spokane / coeur d'alene     2988\n",
              "fresno / madera             2988\n",
              "redding                     2987\n",
              "stockton                    2987\n",
              "inland empire               2987\n",
              "omaha / council bluffs      2986\n",
              "modesto                     2985\n",
              "ventura county              2984\n",
              "oklahoma city               2984\n",
              "salem                       2984\n",
              "des moines                  2984\n",
              "eugene                      2983\n",
              "kennewick-pasco-richland    2983\n",
              "las vegas                   2981\n",
              "tucson                      2979\n",
              "Name: region, dtype: int64"
            ]
          },
          "metadata": {
            "tags": []
          },
          "execution_count": 23
        }
      ]
    },
    {
      "cell_type": "code",
      "metadata": {
        "colab": {
          "base_uri": "https://localhost:8080/"
        },
        "id": "t54iNeY4BDhd",
        "outputId": "390392df-b0bd-4f40-bdc5-a993c7c388a3"
      },
      "source": [
        "#Type of data\r\n",
        "type(region_by_no)"
      ],
      "execution_count": null,
      "outputs": [
        {
          "output_type": "execute_result",
          "data": {
            "text/plain": [
              "pandas.core.series.Series"
            ]
          },
          "metadata": {
            "tags": []
          },
          "execution_count": 24
        }
      ]
    },
    {
      "cell_type": "markdown",
      "metadata": {
        "id": "sP2SoJByGXNv"
      },
      "source": [
        "- Plot a graph displying the same"
      ]
    },
    {
      "cell_type": "code",
      "metadata": {
        "colab": {
          "base_uri": "https://localhost:8080/",
          "height": 320
        },
        "id": "UvlJcGDfGWt-",
        "outputId": "4b595f24-47d9-411d-d57e-48617bef12ca"
      },
      "source": [
        "plt.figure(figsize=(12,5))\r\n",
        "region_by_no[:21].plot(kind='barh',color=\"blue\")\r\n",
        "plt.show()"
      ],
      "execution_count": null,
      "outputs": [
        {
          "output_type": "display_data",
          "data": {
            "image/png": "[encoded data removed]",
            "text/plain": [
              "<Figure size 864x360 with 1 Axes>"
            ]
          },
          "metadata": {
            "tags": [],
            "needs_background": "light"
          }
        }
      ]
    },
    {
      "cell_type": "code",
      "metadata": {
        "colab": {
          "base_uri": "https://localhost:8080/",
          "height": 283
        },
        "id": "fS_ZiZvNGWrA",
        "outputId": "28b7edec-33ed-43cf-ec49-2f8d046402dc"
      },
      "source": [
        "sns.set_style('dark')\r\n",
        "\r\n",
        "sns.histplot(region_by_no,log_scale=True)\r\n",
        "plt.show()"
      ],
      "execution_count": null,
      "outputs": [
        {
          "output_type": "display_data",
          "data": {
            "image/png": "[encoded data removed]",
            "text/plain": [
              "<Figure size 432x288 with 1 Axes>"
            ]
          },
          "metadata": {
            "tags": []
          }
        }
      ]
    },
    {
      "cell_type": "code",
      "metadata": {
        "colab": {
          "base_uri": "https://localhost:8080/",
          "height": 333
        },
        "id": "n6BA9E1HGWn-",
        "outputId": "eda9a732-acf8-4766-800a-df156ad30894"
      },
      "source": [
        "sns.distplot(region_by_no)\r\n",
        "plt.show()"
      ],
      "execution_count": null,
      "outputs": [
        {
          "output_type": "stream",
          "text": [
            "/usr/local/lib/python3.7/dist-packages/seaborn/distributions.py:2557: FutureWarning: `distplot` is a deprecated function and will be removed in a future version. Please adapt your code to use either `displot` (a figure-level function with similar flexibility) or `histplot` (an axes-level function for histograms).\n",
            "  warnings.warn(msg, FutureWarning)\n"
          ],
          "name": "stderr"
        },
        {
          "output_type": "display_data",
          "data": {
            "image/png": "[encoded data removed]",
            "text/plain": [
              "<Figure size 432x288 with 1 Axes>"
            ]
          },
          "metadata": {
            "tags": []
          }
        }
      ]
    },
    {
      "cell_type": "code",
      "metadata": {
        "colab": {
          "base_uri": "https://localhost:8080/"
        },
        "id": "Qim0X7ELGWlQ",
        "outputId": "35eebcb0-108f-447d-ec78-85b080279aba"
      },
      "source": [
        "region_by_no[region_by_no==1]"
      ],
      "execution_count": null,
      "outputs": [
        {
          "output_type": "execute_result",
          "data": {
            "text/plain": [
              "sioux city, IA    1\n",
              "Name: region, dtype: int64"
            ]
          },
          "metadata": {
            "tags": []
          },
          "execution_count": 28
        }
      ]
    },
    {
      "cell_type": "markdown",
      "metadata": {
        "id": "1TIbfUYrJvw1"
      },
      "source": [
        "- High and Low no regions"
      ]
    },
    {
      "cell_type": "code",
      "metadata": {
        "id": "9z2E1ykYJjTh"
      },
      "source": [
        "high_reg=region_by_no[region_by_no>=1000]"
      ],
      "execution_count": null,
      "outputs": []
    },
    {
      "cell_type": "code",
      "metadata": {
        "colab": {
          "base_uri": "https://localhost:8080/"
        },
        "id": "ouyWcwsLJjQP",
        "outputId": "5adc90f0-113b-4497-be2f-f590d55b4e59"
      },
      "source": [
        "#Percentage of higer ones\r\n",
        "len(high_reg)/len(un_region)"
      ],
      "execution_count": null,
      "outputs": [
        {
          "output_type": "execute_result",
          "data": {
            "text/plain": [
              "0.4"
            ]
          },
          "metadata": {
            "tags": []
          },
          "execution_count": 30
        }
      ]
    },
    {
      "cell_type": "code",
      "metadata": {
        "id": "L6hvKrzvJjMd"
      },
      "source": [
        "low_reg=region_by_no[region_by_no<1000]"
      ],
      "execution_count": null,
      "outputs": []
    },
    {
      "cell_type": "code",
      "metadata": {
        "colab": {
          "base_uri": "https://localhost:8080/"
        },
        "id": "Q-G-SgIDGWiA",
        "outputId": "11806653-1fd3-4434-fc66-6fce3308ce8f"
      },
      "source": [
        "#percentage of lower ones\r\n",
        "len(low_reg)/len(un_region)"
      ],
      "execution_count": null,
      "outputs": [
        {
          "output_type": "execute_result",
          "data": {
            "text/plain": [
              "0.6"
            ]
          },
          "metadata": {
            "tags": []
          },
          "execution_count": 32
        }
      ]
    },
    {
      "cell_type": "code",
      "metadata": {
        "colab": {
          "base_uri": "https://localhost:8080/",
          "height": 285
        },
        "id": "FzsbHUoTKqG8",
        "outputId": "6648143d-2590-4a58-cc4b-11e0c0cd529f"
      },
      "source": [
        "sns.histplot(high_reg,log_scale=True)\r\n",
        "plt.show()"
      ],
      "execution_count": null,
      "outputs": [
        {
          "output_type": "display_data",
          "data": {
            "image/png": "[encoded data removed]",
            "text/plain": [
              "<Figure size 432x288 with 1 Axes>"
            ]
          },
          "metadata": {
            "tags": []
          }
        }
      ]
    },
    {
      "cell_type": "code",
      "metadata": {
        "colab": {
          "base_uri": "https://localhost:8080/",
          "height": 350
        },
        "id": "0R9I0sr7KqD3",
        "outputId": "e55220e7-c32f-422c-c647-a84a8e11feef"
      },
      "source": [
        "sns.distplot(low_reg)"
      ],
      "execution_count": null,
      "outputs": [
        {
          "output_type": "stream",
          "text": [
            "/usr/local/lib/python3.7/dist-packages/seaborn/distributions.py:2557: FutureWarning: `distplot` is a deprecated function and will be removed in a future version. Please adapt your code to use either `displot` (a figure-level function with similar flexibility) or `histplot` (an axes-level function for histograms).\n",
            "  warnings.warn(msg, FutureWarning)\n"
          ],
          "name": "stderr"
        },
        {
          "output_type": "execute_result",
          "data": {
            "text/plain": [
              "<matplotlib.axes._subplots.AxesSubplot at 0x7fde7de43c90>"
            ]
          },
          "metadata": {
            "tags": []
          },
          "execution_count": 34
        },
        {
          "output_type": "display_data",
          "data": {
            "image/png": "[encoded data removed]",
            "text/plain": [
              "<Figure size 432x288 with 1 Axes>"
            ]
          },
          "metadata": {
            "tags": []
          }
        }
      ]
    },
    {
      "cell_type": "code",
      "metadata": {
        "colab": {
          "base_uri": "https://localhost:8080/",
          "height": 300
        },
        "id": "SbMYcTrVKqA3",
        "outputId": "6a702c36-63ba-4751-8175-259d1bcb0538"
      },
      "source": [
        "sns.histplot(low_reg,log_scale=True)"
      ],
      "execution_count": null,
      "outputs": [
        {
          "output_type": "execute_result",
          "data": {
            "text/plain": [
              "<matplotlib.axes._subplots.AxesSubplot at 0x7fde7dd96b90>"
            ]
          },
          "metadata": {
            "tags": []
          },
          "execution_count": 35
        },
        {
          "output_type": "display_data",
          "data": {
            "image/png": "[encoded data removed]",
            "text/plain": [
              "<Figure size 432x288 with 1 Axes>"
            ]
          },
          "metadata": {
            "tags": []
          }
        }
      ]
    },
    {
      "cell_type": "code",
      "metadata": {
        "colab": {
          "base_uri": "https://localhost:8080/"
        },
        "id": "s2yNMl9fKp92",
        "outputId": "7da5ab8b-f5b4-46a2-f9f2-e3c68b083f87"
      },
      "source": [
        "\"New York\" in df.region"
      ],
      "execution_count": null,
      "outputs": [
        {
          "output_type": "execute_result",
          "data": {
            "text/plain": [
              "False"
            ]
          },
          "metadata": {
            "tags": []
          },
          "execution_count": 36
        }
      ]
    },
    {
      "cell_type": "markdown",
      "metadata": {
        "id": "FBd7_aUzNERU"
      },
      "source": [
        "## Entry price"
      ]
    },
    {
      "cell_type": "code",
      "metadata": {
        "colab": {
          "base_uri": "https://localhost:8080/"
        },
        "id": "U92iGAKsMmGr",
        "outputId": "ea954ea5-8b35-4736-a970-5d4051e70ea1"
      },
      "source": [
        "df.price"
      ],
      "execution_count": null,
      "outputs": [
        {
          "output_type": "execute_result",
          "data": {
            "text/plain": [
              "0         35990\n",
              "1          7500\n",
              "2          4900\n",
              "3          2000\n",
              "4         19500\n",
              "          ...  \n",
              "458208    14995\n",
              "458209    17895\n",
              "458210    17900\n",
              "458211     1300\n",
              "458212    22900\n",
              "Name: price, Length: 458213, dtype: int64"
            ]
          },
          "metadata": {
            "tags": []
          },
          "execution_count": 37
        }
      ]
    },
    {
      "cell_type": "code",
      "metadata": {
        "colab": {
          "base_uri": "https://localhost:8080/"
        },
        "id": "9Xin89bKMmEM",
        "outputId": "745f9aed-8a4d-48cd-b668-79458fb20bc2"
      },
      "source": [
        "un_price=df.price.unique()\r\n",
        "len(un_price)\r\n",
        "#no of different pice values"
      ],
      "execution_count": null,
      "outputs": [
        {
          "output_type": "execute_result",
          "data": {
            "text/plain": [
              "16924"
            ]
          },
          "metadata": {
            "tags": []
          },
          "execution_count": 38
        }
      ]
    },
    {
      "cell_type": "markdown",
      "metadata": {
        "id": "MXy9S7VeOqiR"
      },
      "source": [
        "- Pricing according to the regions"
      ]
    },
    {
      "cell_type": "code",
      "metadata": {
        "colab": {
          "base_uri": "https://localhost:8080/"
        },
        "id": "Vo-YuyqkMmA1",
        "outputId": "768ff62b-da89-4f33-e486-433abe281beb"
      },
      "source": [
        "diff_prices=df.price.value_counts()\r\n",
        "diff_prices"
      ],
      "execution_count": null,
      "outputs": [
        {
          "output_type": "execute_result",
          "data": {
            "text/plain": [
              "0        33753\n",
              "6995      4003\n",
              "5995      3760\n",
              "7995      3701\n",
              "3500      3680\n",
              "         ...  \n",
              "29577        1\n",
              "13185        1\n",
              "15232        1\n",
              "33431        1\n",
              "12422        1\n",
              "Name: price, Length: 16924, dtype: int64"
            ]
          },
          "metadata": {
            "tags": []
          },
          "execution_count": 39
        }
      ]
    },
    {
      "cell_type": "code",
      "metadata": {
        "colab": {
          "base_uri": "https://localhost:8080/"
        },
        "id": "jesG_u_3Ocuk",
        "outputId": "7186607c-4e0e-4d87-ccbc-47cb9ee53f4f"
      },
      "source": [
        "diff_prices[:11]\r\n",
        "#top 10 costliest"
      ],
      "execution_count": null,
      "outputs": [
        {
          "output_type": "execute_result",
          "data": {
            "text/plain": [
              "0       33753\n",
              "6995     4003\n",
              "5995     3760\n",
              "7995     3701\n",
              "3500     3680\n",
              "9995     3561\n",
              "4500     3414\n",
              "8995     3405\n",
              "2500     3288\n",
              "5500     3147\n",
              "4995     3073\n",
              "Name: price, dtype: int64"
            ]
          },
          "metadata": {
            "tags": []
          },
          "execution_count": 40
        }
      ]
    },
    {
      "cell_type": "markdown",
      "metadata": {
        "id": "f0EWaz80QFtX"
      },
      "source": [
        "- plots depending upon prices"
      ]
    },
    {
      "cell_type": "code",
      "metadata": {
        "colab": {
          "base_uri": "https://localhost:8080/",
          "height": 265
        },
        "id": "BiA6MTNFOcsC",
        "outputId": "8601990d-93b3-41e7-9885-944e5b8f963a"
      },
      "source": [
        "diff_prices[:11].plot(kind='barh')\r\n",
        "plt.show()"
      ],
      "execution_count": null,
      "outputs": [
        {
          "output_type": "display_data",
          "data": {
            "image/png": "[encoded data removed]",
            "text/plain": [
              "<Figure size 432x288 with 1 Axes>"
            ]
          },
          "metadata": {
            "tags": []
          }
        }
      ]
    },
    {
      "cell_type": "code",
      "metadata": {
        "colab": {
          "base_uri": "https://localhost:8080/",
          "height": 333
        },
        "id": "1Z3O4rZ6Oco0",
        "outputId": "ebcfe8c2-b8d7-4c4b-cf8c-510d0943b266"
      },
      "source": [
        "sns.distplot(diff_prices)\r\n",
        "plt.show()"
      ],
      "execution_count": null,
      "outputs": [
        {
          "output_type": "stream",
          "text": [
            "/usr/local/lib/python3.7/dist-packages/seaborn/distributions.py:2557: FutureWarning: `distplot` is a deprecated function and will be removed in a future version. Please adapt your code to use either `displot` (a figure-level function with similar flexibility) or `histplot` (an axes-level function for histograms).\n",
            "  warnings.warn(msg, FutureWarning)\n"
          ],
          "name": "stderr"
        },
        {
          "output_type": "display_data",
          "data": {
            "image/png": "[encoded data removed]",
            "text/plain": [
              "<Figure size 432x288 with 1 Axes>"
            ]
          },
          "metadata": {
            "tags": []
          }
        }
      ]
    },
    {
      "cell_type": "code",
      "metadata": {
        "colab": {
          "base_uri": "https://localhost:8080/"
        },
        "id": "fD9NpX6uOclb",
        "outputId": "e554704d-3089-4a59-d229-4362e76f6bc7"
      },
      "source": [
        "np.mean(df.price)"
      ],
      "execution_count": null,
      "outputs": [
        {
          "output_type": "execute_result",
          "data": {
            "text/plain": [
              "40420.93069598637"
            ]
          },
          "metadata": {
            "tags": []
          },
          "execution_count": 43
        }
      ]
    },
    {
      "cell_type": "code",
      "metadata": {
        "colab": {
          "base_uri": "https://localhost:8080/",
          "height": 283
        },
        "id": "tEWSHDEyQmx5",
        "outputId": "bda70864-904d-44dc-a5a4-f65ca71884d9"
      },
      "source": [
        "sns.histplot(diff_prices,log_scale=True)\r\n",
        "plt.show()"
      ],
      "execution_count": null,
      "outputs": [
        {
          "output_type": "display_data",
          "data": {
            "image/png": "[encoded data removed]",
            "text/plain": [
              "<Figure size 432x288 with 1 Axes>"
            ]
          },
          "metadata": {
            "tags": []
          }
        }
      ]
    },
    {
      "cell_type": "code",
      "metadata": {
        "colab": {
          "base_uri": "https://localhost:8080/"
        },
        "id": "YMjFMMFdQmuy",
        "outputId": "f6f3511d-2007-4ac8-fcd1-7d33ab6e3cff"
      },
      "source": [
        "#Expensive ones\r\n",
        "exp_price=diff_prices[diff_prices>=10000]\r\n",
        "len(exp_price)"
      ],
      "execution_count": null,
      "outputs": [
        {
          "output_type": "execute_result",
          "data": {
            "text/plain": [
              "1"
            ]
          },
          "metadata": {
            "tags": []
          },
          "execution_count": 45
        }
      ]
    },
    {
      "cell_type": "code",
      "metadata": {
        "colab": {
          "base_uri": "https://localhost:8080/"
        },
        "id": "GNOYTTX_RQT2",
        "outputId": "4d80fc9c-b856-403f-f48d-8728aef39078"
      },
      "source": [
        "#Affordable ones\r\n",
        "aff_price=diff_prices[diff_prices<4500]\r\n",
        "len(aff_price)"
      ],
      "execution_count": null,
      "outputs": [
        {
          "output_type": "execute_result",
          "data": {
            "text/plain": [
              "16923"
            ]
          },
          "metadata": {
            "tags": []
          },
          "execution_count": 46
        }
      ]
    },
    {
      "cell_type": "markdown",
      "metadata": {
        "id": "YyUgS-IqTibR"
      },
      "source": [
        "## Entry Year"
      ]
    },
    {
      "cell_type": "code",
      "metadata": {
        "colab": {
          "base_uri": "https://localhost:8080/"
        },
        "id": "SLc5gRiXRa2O",
        "outputId": "0640d305-60f3-4318-ada2-16603c196a2a"
      },
      "source": [
        "df.year"
      ],
      "execution_count": null,
      "outputs": [
        {
          "output_type": "execute_result",
          "data": {
            "text/plain": [
              "0         2010.0\n",
              "1         2014.0\n",
              "2         2006.0\n",
              "3         1974.0\n",
              "4         2005.0\n",
              "           ...  \n",
              "458208    2014.0\n",
              "458209    2018.0\n",
              "458210    2014.0\n",
              "458211    2008.0\n",
              "458212    2008.0\n",
              "Name: year, Length: 458213, dtype: float64"
            ]
          },
          "metadata": {
            "tags": []
          },
          "execution_count": 47
        }
      ]
    },
    {
      "cell_type": "code",
      "metadata": {
        "colab": {
          "base_uri": "https://localhost:8080/"
        },
        "id": "l6R3QNtgRay5",
        "outputId": "bd46821d-32d0-40b6-ab54-ab7d4435e4bc"
      },
      "source": [
        "print(np.min(df.year))\r\n",
        "print(np.max(df.year))"
      ],
      "execution_count": null,
      "outputs": [
        {
          "output_type": "stream",
          "text": [
            "1900.0\n",
            "2021.0\n"
          ],
          "name": "stdout"
        }
      ]
    },
    {
      "cell_type": "code",
      "metadata": {
        "colab": {
          "base_uri": "https://localhost:8080/"
        },
        "id": "btTM8DXqRavw",
        "outputId": "9ac69a19-0a2f-4ac8-f149-1589369f0ac0"
      },
      "source": [
        "#No of unique years\r\n",
        "un_year=df.year.unique()\r\n",
        "len(un_year)"
      ],
      "execution_count": null,
      "outputs": [
        {
          "output_type": "execute_result",
          "data": {
            "text/plain": [
              "111"
            ]
          },
          "metadata": {
            "tags": []
          },
          "execution_count": 49
        }
      ]
    },
    {
      "cell_type": "markdown",
      "metadata": {
        "id": "ddyuEpa-VDc_"
      },
      "source": [
        "- Listing over the years"
      ]
    },
    {
      "cell_type": "code",
      "metadata": {
        "colab": {
          "base_uri": "https://localhost:8080/"
        },
        "id": "VZrRp7crUomn",
        "outputId": "bd50e7df-5065-48af-f9dc-103138d41777"
      },
      "source": [
        "diff_years=df.year.value_counts()\r\n",
        "diff_years"
      ],
      "execution_count": null,
      "outputs": [
        {
          "output_type": "execute_result",
          "data": {
            "text/plain": [
              "2017.0    42405\n",
              "2014.0    34243\n",
              "2013.0    33392\n",
              "2015.0    32609\n",
              "2016.0    31966\n",
              "          ...  \n",
              "1921.0        1\n",
              "1913.0        1\n",
              "1922.0        1\n",
              "1910.0        1\n",
              "1919.0        1\n",
              "Name: year, Length: 110, dtype: int64"
            ]
          },
          "metadata": {
            "tags": []
          },
          "execution_count": 50
        }
      ]
    },
    {
      "cell_type": "code",
      "metadata": {
        "colab": {
          "base_uri": "https://localhost:8080/"
        },
        "id": "0dzaoVB8Uojp",
        "outputId": "03e5270e-232c-474b-9b8b-20ccee51f5a0"
      },
      "source": [
        "np.max(diff_years)"
      ],
      "execution_count": null,
      "outputs": [
        {
          "output_type": "execute_result",
          "data": {
            "text/plain": [
              "42405"
            ]
          },
          "metadata": {
            "tags": []
          },
          "execution_count": 51
        }
      ]
    },
    {
      "cell_type": "code",
      "metadata": {
        "colab": {
          "base_uri": "https://localhost:8080/",
          "height": 300
        },
        "id": "a_y1_kSEUogn",
        "outputId": "fa8e2d1f-4608-4a18-d2d7-193a7a9964c4"
      },
      "source": [
        "sns.histplot(diff_years,log_scale=True)\r\n",
        "plt.plot()"
      ],
      "execution_count": null,
      "outputs": [
        {
          "output_type": "execute_result",
          "data": {
            "text/plain": [
              "[]"
            ]
          },
          "metadata": {
            "tags": []
          },
          "execution_count": 52
        },
        {
          "output_type": "display_data",
          "data": {
            "image/png": "[encoded data removed]",
            "text/plain": [
              "<Figure size 432x288 with 1 Axes>"
            ]
          },
          "metadata": {
            "tags": []
          }
        }
      ]
    },
    {
      "cell_type": "code",
      "metadata": {
        "colab": {
          "base_uri": "https://localhost:8080/",
          "height": 350
        },
        "id": "Rnq9fXhLVp3m",
        "outputId": "234eec39-b8ba-4808-d59d-2ad1f99fbd99"
      },
      "source": [
        "sns.distplot(diff_years)\r\n",
        "plt.plot()"
      ],
      "execution_count": null,
      "outputs": [
        {
          "output_type": "stream",
          "text": [
            "/usr/local/lib/python3.7/dist-packages/seaborn/distributions.py:2557: FutureWarning: `distplot` is a deprecated function and will be removed in a future version. Please adapt your code to use either `displot` (a figure-level function with similar flexibility) or `histplot` (an axes-level function for histograms).\n",
            "  warnings.warn(msg, FutureWarning)\n"
          ],
          "name": "stderr"
        },
        {
          "output_type": "execute_result",
          "data": {
            "text/plain": [
              "[]"
            ]
          },
          "metadata": {
            "tags": []
          },
          "execution_count": 53
        },
        {
          "output_type": "display_data",
          "data": {
            "image/png": "[encoded data removed]",
            "text/plain": [
              "<Figure size 432x288 with 1 Axes>"
            ]
          },
          "metadata": {
            "tags": []
          }
        }
      ]
    },
    {
      "cell_type": "markdown",
      "metadata": {
        "id": "8fjQAG-NbPOo"
      },
      "source": [
        "## Manufacturer of the Vehicle"
      ]
    },
    {
      "cell_type": "code",
      "metadata": {
        "colab": {
          "base_uri": "https://localhost:8080/"
        },
        "id": "PRkXtZKiVpx8",
        "outputId": "b87d2ea0-4d0a-4887-ce99-2402f5aafaee"
      },
      "source": [
        "df.manufacturer"
      ],
      "execution_count": null,
      "outputs": [
        {
          "output_type": "execute_result",
          "data": {
            "text/plain": [
              "0         chevrolet\n",
              "1           hyundai\n",
              "2               bmw\n",
              "3         chevrolet\n",
              "4              ford\n",
              "            ...    \n",
              "458208     cadillac\n",
              "458209      hyundai\n",
              "458210     cadillac\n",
              "458211         jeep\n",
              "458212          NaN\n",
              "Name: manufacturer, Length: 458213, dtype: object"
            ]
          },
          "metadata": {
            "tags": []
          },
          "execution_count": 54
        }
      ]
    },
    {
      "cell_type": "code",
      "metadata": {
        "colab": {
          "base_uri": "https://localhost:8080/"
        },
        "id": "wlAjQnfbVpq_",
        "outputId": "fdc34688-d0c9-436c-f44d-0de3f91df58a"
      },
      "source": [
        "#No of manufacturers\r\n",
        "un_manu=df.manufacturer.unique()\r\n",
        "len(un_manu)"
      ],
      "execution_count": null,
      "outputs": [
        {
          "output_type": "execute_result",
          "data": {
            "text/plain": [
              "44"
            ]
          },
          "metadata": {
            "tags": []
          },
          "execution_count": 55
        }
      ]
    },
    {
      "cell_type": "code",
      "metadata": {
        "colab": {
          "base_uri": "https://localhost:8080/"
        },
        "id": "diZXfoinb2pa",
        "outputId": "c140ef24-1d79-4290-f8ec-c67783c5133a"
      },
      "source": [
        "diff_manu=df.manufacturer.value_counts()\r\n",
        "diff_manu"
      ],
      "execution_count": null,
      "outputs": [
        {
          "output_type": "execute_result",
          "data": {
            "text/plain": [
              "ford               79666\n",
              "chevrolet          64977\n",
              "toyota             38577\n",
              "honda              25868\n",
              "nissan             23654\n",
              "jeep               21165\n",
              "ram                17697\n",
              "gmc                17267\n",
              "dodge              16730\n",
              "bmw                12352\n",
              "hyundai            10975\n",
              "mercedes-benz      10628\n",
              "subaru             10510\n",
              "volkswagen         10489\n",
              "kia                 8854\n",
              "chrysler            7499\n",
              "lexus               7119\n",
              "cadillac            6743\n",
              "buick               6009\n",
              "mazda               5931\n",
              "audi                5583\n",
              "acura               4008\n",
              "infiniti            3714\n",
              "lincoln             3338\n",
              "pontiac             3037\n",
              "volvo               2866\n",
              "mini                2330\n",
              "mitsubishi          2301\n",
              "porsche             1779\n",
              "rover               1662\n",
              "mercury             1645\n",
              "saturn              1393\n",
              "tesla               1067\n",
              "jaguar              1060\n",
              "fiat                 955\n",
              "alfa-romeo           187\n",
              "harley-davidson      139\n",
              "ferrari               96\n",
              "datsun                63\n",
              "aston-martin          35\n",
              "land rover            21\n",
              "morgan                 3\n",
              "hennessey              1\n",
              "Name: manufacturer, dtype: int64"
            ]
          },
          "metadata": {
            "tags": []
          },
          "execution_count": 56
        }
      ]
    },
    {
      "cell_type": "code",
      "metadata": {
        "colab": {
          "base_uri": "https://localhost:8080/"
        },
        "id": "4IFgFFNsb2fK",
        "outputId": "f6775681-ab44-4fe1-8787-00d37481a4ac"
      },
      "source": [
        "type(diff_manu)"
      ],
      "execution_count": null,
      "outputs": [
        {
          "output_type": "execute_result",
          "data": {
            "text/plain": [
              "pandas.core.series.Series"
            ]
          },
          "metadata": {
            "tags": []
          },
          "execution_count": 57
        }
      ]
    },
    {
      "cell_type": "markdown",
      "metadata": {
        "id": "y6RqUhfqchsw"
      },
      "source": [
        "- Graphs according to manufacturers"
      ]
    },
    {
      "cell_type": "code",
      "metadata": {
        "colab": {
          "base_uri": "https://localhost:8080/",
          "height": 609
        },
        "id": "W8n79ignb2bw",
        "outputId": "9ea8b5de-13e9-40a1-bc1a-839b5909cda6"
      },
      "source": [
        "plt.figure(figsize=(18,10))\r\n",
        "diff_manu.plot(kind='barh')\r\n",
        "plt.plot()"
      ],
      "execution_count": null,
      "outputs": [
        {
          "output_type": "execute_result",
          "data": {
            "text/plain": [
              "[]"
            ]
          },
          "metadata": {
            "tags": []
          },
          "execution_count": 58
        },
        {
          "output_type": "display_data",
          "data": {
            "image/png": "[encoded data removed]",
            "text/plain": [
              "<Figure size 1296x720 with 1 Axes>"
            ]
          },
          "metadata": {
            "tags": []
          }
        }
      ]
    },
    {
      "cell_type": "code",
      "metadata": {
        "colab": {
          "base_uri": "https://localhost:8080/",
          "height": 300
        },
        "id": "u55PmHl-b2Y_",
        "outputId": "b78c6035-3632-47eb-8def-a3f480921307"
      },
      "source": [
        "sns.histplot(diff_manu,log_scale=True)\r\n",
        "plt.plot()"
      ],
      "execution_count": null,
      "outputs": [
        {
          "output_type": "execute_result",
          "data": {
            "text/plain": [
              "[]"
            ]
          },
          "metadata": {
            "tags": []
          },
          "execution_count": 59
        },
        {
          "output_type": "display_data",
          "data": {
            "image/png": "[encoded data removed]",
            "text/plain": [
              "<Figure size 432x288 with 1 Axes>"
            ]
          },
          "metadata": {
            "tags": []
          }
        }
      ]
    },
    {
      "cell_type": "code",
      "metadata": {
        "colab": {
          "base_uri": "https://localhost:8080/",
          "height": 351
        },
        "id": "xM_4fjtfb2Wh",
        "outputId": "24e7356a-5a3a-4c7b-a8db-f268a8175555"
      },
      "source": [
        "sns.distplot(diff_manu)\r\n",
        "plt.plot()"
      ],
      "execution_count": null,
      "outputs": [
        {
          "output_type": "stream",
          "text": [
            "/usr/local/lib/python3.7/dist-packages/seaborn/distributions.py:2557: FutureWarning: `distplot` is a deprecated function and will be removed in a future version. Please adapt your code to use either `displot` (a figure-level function with similar flexibility) or `histplot` (an axes-level function for histograms).\n",
            "  warnings.warn(msg, FutureWarning)\n"
          ],
          "name": "stderr"
        },
        {
          "output_type": "execute_result",
          "data": {
            "text/plain": [
              "[]"
            ]
          },
          "metadata": {
            "tags": []
          },
          "execution_count": 60
        },
        {
          "output_type": "display_data",
          "data": {
            "image/png": "[encoded data removed]",
            "text/plain": [
              "<Figure size 432x288 with 1 Axes>"
            ]
          },
          "metadata": {
            "tags": []
          }
        }
      ]
    },
    {
      "cell_type": "code",
      "metadata": {
        "colab": {
          "base_uri": "https://localhost:8080/"
        },
        "id": "1caZ_ab6dJn0",
        "outputId": "b1cd7f2d-25f6-4f7e-f1f3-0386fd8c551f"
      },
      "source": [
        "high_manu=diff_manu[diff_manu>=2000]\r\n",
        "len(high_manu)/len(un_manu)"
      ],
      "execution_count": null,
      "outputs": [
        {
          "output_type": "execute_result",
          "data": {
            "text/plain": [
              "0.6363636363636364"
            ]
          },
          "metadata": {
            "tags": []
          },
          "execution_count": 61
        }
      ]
    },
    {
      "cell_type": "code",
      "metadata": {
        "colab": {
          "base_uri": "https://localhost:8080/"
        },
        "id": "_LnOOOtUdJkP",
        "outputId": "1c7c7996-f2be-4ceb-c976-92a00902ce37"
      },
      "source": [
        "low_manu=diff_manu[diff_manu<2000]\r\n",
        "len(low_manu)/len(un_manu)"
      ],
      "execution_count": null,
      "outputs": [
        {
          "output_type": "execute_result",
          "data": {
            "text/plain": [
              "0.3409090909090909"
            ]
          },
          "metadata": {
            "tags": []
          },
          "execution_count": 62
        }
      ]
    },
    {
      "cell_type": "code",
      "metadata": {
        "colab": {
          "base_uri": "https://localhost:8080/",
          "height": 300
        },
        "id": "wr8E6U2SdJiB",
        "outputId": "53ec488d-026a-461d-e17f-1f1d84df02a7"
      },
      "source": [
        "sns.histplot(high_manu,log_scale=True)"
      ],
      "execution_count": null,
      "outputs": [
        {
          "output_type": "execute_result",
          "data": {
            "text/plain": [
              "<matplotlib.axes._subplots.AxesSubplot at 0x7fde7e5d7a90>"
            ]
          },
          "metadata": {
            "tags": []
          },
          "execution_count": 63
        },
        {
          "output_type": "display_data",
          "data": {
            "image/png": "[encoded data removed]",
            "text/plain": [
              "<Figure size 432x288 with 1 Axes>"
            ]
          },
          "metadata": {
            "tags": []
          }
        }
      ]
    },
    {
      "cell_type": "code",
      "metadata": {
        "colab": {
          "base_uri": "https://localhost:8080/",
          "height": 350
        },
        "id": "UORmE0WDdJff",
        "outputId": "1b4b01d6-9392-42a4-fcb1-d2d30eebebc9"
      },
      "source": [
        "sns.distplot(low_manu)"
      ],
      "execution_count": null,
      "outputs": [
        {
          "output_type": "stream",
          "text": [
            "/usr/local/lib/python3.7/dist-packages/seaborn/distributions.py:2557: FutureWarning: `distplot` is a deprecated function and will be removed in a future version. Please adapt your code to use either `displot` (a figure-level function with similar flexibility) or `histplot` (an axes-level function for histograms).\n",
            "  warnings.warn(msg, FutureWarning)\n"
          ],
          "name": "stderr"
        },
        {
          "output_type": "execute_result",
          "data": {
            "text/plain": [
              "<matplotlib.axes._subplots.AxesSubplot at 0x7fde7db06350>"
            ]
          },
          "metadata": {
            "tags": []
          },
          "execution_count": 64
        },
        {
          "output_type": "display_data",
          "data": {
            "image/png": "[encoded data removed]",
            "text/plain": [
              "<Figure size 432x288 with 1 Axes>"
            ]
          },
          "metadata": {
            "tags": []
          }
        }
      ]
    },
    {
      "cell_type": "markdown",
      "metadata": {
        "id": "9NYUCImsfTnq"
      },
      "source": [
        "## Condition of Vehicle"
      ]
    },
    {
      "cell_type": "code",
      "metadata": {
        "colab": {
          "base_uri": "https://localhost:8080/"
        },
        "id": "vN0J4MfqdJcl",
        "outputId": "30a2a4cb-9acc-4f99-8583-57a8acc60d9d"
      },
      "source": [
        "df.condition"
      ],
      "execution_count": null,
      "outputs": [
        {
          "output_type": "execute_result",
          "data": {
            "text/plain": [
              "0              good\n",
              "1         excellent\n",
              "2              good\n",
              "3              good\n",
              "4         excellent\n",
              "            ...    \n",
              "458208    excellent\n",
              "458209    excellent\n",
              "458210    excellent\n",
              "458211         good\n",
              "458212          NaN\n",
              "Name: condition, Length: 458213, dtype: object"
            ]
          },
          "metadata": {
            "tags": []
          },
          "execution_count": 65
        }
      ]
    },
    {
      "cell_type": "code",
      "metadata": {
        "colab": {
          "base_uri": "https://localhost:8080/"
        },
        "id": "xWdsGjQdfprx",
        "outputId": "b99d7bb2-46ef-47f1-db13-9bedbde85794"
      },
      "source": [
        "un_cond=df.condition.unique()\r\n",
        "len(un_cond)"
      ],
      "execution_count": null,
      "outputs": [
        {
          "output_type": "execute_result",
          "data": {
            "text/plain": [
              "7"
            ]
          },
          "metadata": {
            "tags": []
          },
          "execution_count": 66
        }
      ]
    },
    {
      "cell_type": "code",
      "metadata": {
        "colab": {
          "base_uri": "https://localhost:8080/"
        },
        "id": "FybgRPgefpn8",
        "outputId": "dedb8b26-891d-4d0f-d8d0-3a01aba8b7f9"
      },
      "source": [
        "diff_cond=df.condition.value_counts()\r\n",
        "diff_cond"
      ],
      "execution_count": null,
      "outputs": [
        {
          "output_type": "execute_result",
          "data": {
            "text/plain": [
              "good         115685\n",
              "excellent    115206\n",
              "like new      24553\n",
              "fair           7740\n",
              "new            1428\n",
              "salvage         661\n",
              "Name: condition, dtype: int64"
            ]
          },
          "metadata": {
            "tags": []
          },
          "execution_count": 67
        }
      ]
    },
    {
      "cell_type": "code",
      "metadata": {
        "colab": {
          "base_uri": "https://localhost:8080/",
          "height": 482
        },
        "id": "7XvOYavMfplM",
        "outputId": "a64e5866-d873-46d8-eb13-0a862562b363"
      },
      "source": [
        "plt.figure(figsize=(20,8))\r\n",
        "plt.title(\"Condition of the vehicle.\",color='blue')\r\n",
        "diff_cond.plot(kind='pie')\r\n",
        "plt.legend()\r\n",
        "plt.show()\r\n"
      ],
      "execution_count": null,
      "outputs": [
        {
          "output_type": "display_data",
          "data": {
            "image/png": "[encoded data removed]",
            "text/plain": [
              "<Figure size 1440x576 with 1 Axes>"
            ]
          },
          "metadata": {
            "tags": []
          }
        }
      ]
    },
    {
      "cell_type": "code",
      "metadata": {
        "colab": {
          "base_uri": "https://localhost:8080/",
          "height": 265
        },
        "id": "y0YnZ8Pafpio",
        "outputId": "11902093-906c-4abf-e6c1-f96d163d974b"
      },
      "source": [
        "diff_cond.plot(kind='barh')\r\n",
        "plt.show()"
      ],
      "execution_count": null,
      "outputs": [
        {
          "output_type": "display_data",
          "data": {
            "image/png": "[encoded data removed]",
            "text/plain": [
              "<Figure size 432x288 with 1 Axes>"
            ]
          },
          "metadata": {
            "tags": []
          }
        }
      ]
    },
    {
      "cell_type": "markdown",
      "metadata": {
        "id": "5KlguGeoiByP"
      },
      "source": [
        "## Latitude and Longitude"
      ]
    },
    {
      "cell_type": "code",
      "metadata": {
        "colab": {
          "base_uri": "https://localhost:8080/"
        },
        "id": "cmdL91Prfpf8",
        "outputId": "da9b9d02-b001-4670-c6f5-c23c04696e2e"
      },
      "source": [
        "df.columns"
      ],
      "execution_count": null,
      "outputs": [
        {
          "output_type": "execute_result",
          "data": {
            "text/plain": [
              "Index(['Unnamed: 0', 'id', 'url', 'region', 'region_url', 'price', 'year',\n",
              "       'manufacturer', 'model', 'condition', 'cylinders', 'fuel', 'odometer',\n",
              "       'title_status', 'transmission', 'VIN', 'drive', 'size', 'type',\n",
              "       'paint_color', 'image_url', 'description', 'state', 'lat', 'long',\n",
              "       'posting_date'],\n",
              "      dtype='object')"
            ]
          },
          "metadata": {
            "tags": []
          },
          "execution_count": 70
        }
      ]
    },
    {
      "cell_type": "markdown",
      "metadata": {
        "id": "96mD9gd0fPcD"
      },
      "source": [
        "- Remove the missing values "
      ]
    },
    {
      "cell_type": "code",
      "metadata": {
        "colab": {
          "base_uri": "https://localhost:8080/"
        },
        "id": "RC3XMTwTdzVa",
        "outputId": "00e5fd7e-4564-40b4-a668-84cc08ad8270"
      },
      "source": [
        "df.lat.isnull().sum()"
      ],
      "execution_count": null,
      "outputs": [
        {
          "output_type": "execute_result",
          "data": {
            "text/plain": [
              "7448"
            ]
          },
          "metadata": {
            "tags": []
          },
          "execution_count": 93
        }
      ]
    },
    {
      "cell_type": "code",
      "metadata": {
        "colab": {
          "base_uri": "https://localhost:8080/"
        },
        "id": "Fea7AyffeE-n",
        "outputId": "93869a34-cf7a-4553-9f3d-b8a8bb49ce89"
      },
      "source": [
        "df.lat.shape"
      ],
      "execution_count": null,
      "outputs": [
        {
          "output_type": "execute_result",
          "data": {
            "text/plain": [
              "(458213,)"
            ]
          },
          "metadata": {
            "tags": []
          },
          "execution_count": 94
        }
      ]
    },
    {
      "cell_type": "code",
      "metadata": {
        "colab": {
          "base_uri": "https://localhost:8080/"
        },
        "id": "Jc3wf7oZeE7A",
        "outputId": "8e07ff13-3382-437c-d74b-ac4131460253"
      },
      "source": [
        "x=df.lat.dropna(axis=0)\r\n",
        "print(x.shape)"
      ],
      "execution_count": null,
      "outputs": [
        {
          "output_type": "stream",
          "text": [
            "(450765,)\n"
          ],
          "name": "stdout"
        }
      ]
    },
    {
      "cell_type": "code",
      "metadata": {
        "colab": {
          "base_uri": "https://localhost:8080/"
        },
        "id": "lHp8_blKeE4G",
        "outputId": "9e6caa0c-f844-47ec-fcbf-e16f8c7cc7b4"
      },
      "source": [
        "df.long.isnull().sum()"
      ],
      "execution_count": null,
      "outputs": [
        {
          "output_type": "execute_result",
          "data": {
            "text/plain": [
              "7448"
            ]
          },
          "metadata": {
            "tags": []
          },
          "execution_count": 100
        }
      ]
    },
    {
      "cell_type": "code",
      "metadata": {
        "colab": {
          "base_uri": "https://localhost:8080/"
        },
        "id": "l8V4xtJ1eE1K",
        "outputId": "7e916ebb-09ba-4452-cb27-64ecae3598f8"
      },
      "source": [
        "df.long.shape"
      ],
      "execution_count": null,
      "outputs": [
        {
          "output_type": "execute_result",
          "data": {
            "text/plain": [
              "(458213,)"
            ]
          },
          "metadata": {
            "tags": []
          },
          "execution_count": 102
        }
      ]
    },
    {
      "cell_type": "code",
      "metadata": {
        "colab": {
          "base_uri": "https://localhost:8080/"
        },
        "id": "8X2PswaUdzKk",
        "outputId": "cabbe113-61ff-4605-c301-515c358c6254"
      },
      "source": [
        "y=df.long.dropna(axis=0)\r\n",
        "print(y.shape)"
      ],
      "execution_count": null,
      "outputs": [
        {
          "output_type": "stream",
          "text": [
            "(450765,)\n"
          ],
          "name": "stdout"
        }
      ]
    },
    {
      "cell_type": "code",
      "metadata": {
        "colab": {
          "base_uri": "https://localhost:8080/"
        },
        "id": "wql-fccUfpdH",
        "outputId": "72393a06-f262-4e6c-f5b8-aeea94a1674f"
      },
      "source": [
        "x"
      ],
      "execution_count": null,
      "outputs": [
        {
          "output_type": "execute_result",
          "data": {
            "text/plain": [
              "0         32.590000\n",
              "1         32.547500\n",
              "2         32.616807\n",
              "3         32.861600\n",
              "4         32.547500\n",
              "            ...    \n",
              "458208    44.408867\n",
              "458209    44.408867\n",
              "458210    44.784900\n",
              "458211    44.773500\n",
              "458212    42.117656\n",
              "Name: lat, Length: 450765, dtype: float64"
            ]
          },
          "metadata": {
            "tags": []
          },
          "execution_count": 107
        }
      ]
    },
    {
      "cell_type": "code",
      "metadata": {
        "colab": {
          "base_uri": "https://localhost:8080/"
        },
        "id": "WTAAOM0xiabK",
        "outputId": "b08ee7d3-fb63-4f98-ecb3-49784ed3a895"
      },
      "source": [
        "y"
      ],
      "execution_count": null,
      "outputs": [
        {
          "output_type": "execute_result",
          "data": {
            "text/plain": [
              "0         -85.480000\n",
              "1         -85.468200\n",
              "2         -85.464149\n",
              "3         -85.216100\n",
              "4         -85.468200\n",
              "             ...    \n",
              "458208    -89.881210\n",
              "458209    -89.882240\n",
              "458210   -106.964800\n",
              "458211   -106.939600\n",
              "458212    -88.436954\n",
              "Name: long, Length: 450765, dtype: float64"
            ]
          },
          "metadata": {
            "tags": []
          },
          "execution_count": 108
        }
      ]
    },
    {
      "cell_type": "code",
      "metadata": {
        "colab": {
          "base_uri": "https://localhost:8080/",
          "height": 475
        },
        "id": "4oSpA9pKiaXt",
        "outputId": "21d4926e-dff9-4eb4-bf99-a777a872c141"
      },
      "source": [
        "plt.figure(figsize=(13,7))\r\n",
        "plt.title(\"Location of listed vehicles.\")\r\n",
        "sns.scatterplot(x=x,y=y)\r\n",
        "plt.xlabel(\"Longitude\")\r\n",
        "plt.ylabel(\"Latitude\")\r\n",
        "\r\n",
        "plt.plot()"
      ],
      "execution_count": null,
      "outputs": [
        {
          "output_type": "execute_result",
          "data": {
            "text/plain": [
              "[]"
            ]
          },
          "metadata": {
            "tags": []
          },
          "execution_count": 109
        },
        {
          "output_type": "display_data",
          "data": {
            "image/png": "[encoded data removed]",
            "text/plain": [
              "<Figure size 936x504 with 1 Axes>"
            ]
          },
          "metadata": {
            "tags": []
          }
        }
      ]
    },
    {
      "cell_type": "markdown",
      "metadata": {
        "id": "w2vX4QqLjjsh"
      },
      "source": [
        "- Will try to plot these on a Map"
      ]
    },
    {
      "cell_type": "code",
      "metadata": {
        "id": "OCknXgOjjjCn"
      },
      "source": [
        "import folium"
      ],
      "execution_count": null,
      "outputs": []
    },
    {
      "cell_type": "code",
      "metadata": {
        "colab": {
          "base_uri": "https://localhost:8080/"
        },
        "id": "xiFDFz9miaVD",
        "outputId": "f1ffe87e-9ac6-48ab-b178-26b6154a38a4"
      },
      "source": [
        "lat,lon=df.lat[0],df.long[0]\r\n",
        "lat,lon"
      ],
      "execution_count": null,
      "outputs": [
        {
          "output_type": "execute_result",
          "data": {
            "text/plain": [
              "(32.59, -85.48)"
            ]
          },
          "metadata": {
            "tags": []
          },
          "execution_count": 75
        }
      ]
    },
    {
      "cell_type": "code",
      "metadata": {
        "colab": {
          "base_uri": "https://localhost:8080/",
          "height": 866
        },
        "id": "E0C2mXUxiaSZ",
        "outputId": "77cfd6e0-da1a-4aff-a06b-32de62065102"
      },
      "source": [
        "#First position only\r\n",
        "map=folium.Map(width=800,height=500)\r\n",
        "\r\n",
        "marker=folium.Marker((lat,lon))\r\n",
        "marker.add_to(map)\r\n",
        "map\r\n"
      ],
      "execution_count": 145,
      "outputs": [
        {
          "output_type": "execute_result",
          "data": {
            "text/html": [
              "<div style=\"width:100%;\"><div style=\"position:relative;width:100%;height:0;padding-bottom:60%;\"><span style=\"color:#565656\">Make this Notebook Trusted to load map: File -> Trust Notebook</span><iframe src=\"about:blank\" style=\"position:absolute;width:100%;height:100%;left:0;top:0;border:none !important;\" data-html=%3C%21DOCTYPE%20html%3E%0A%3Chead%3E%20%20%20%20%0A%20%20%20%20%3Cmeta%20http-equiv%3D%22content-type%22%20content%3D%22text/html%3B%20charset%3DUTF-8%22%20/%3E%0A%20%20%20%20%3Cscript%3EL_PREFER_CANVAS%3Dfalse%3B%20L_NO_TOUCH%3Dfalse%3B%20L_DISABLE_3D%3Dfalse%3B%3C/script%3E%0A%20%20%20%20%3Cscript%20src%3D%22https%3A//cdn.jsdelivr.net/npm/leaflet%401.4.0/dist/leaflet.js%22%3E%3C/script%3E%0A%20%20%20%20%3Cscript%20src%3D%22https%3A//code.jquery.com/jquery-1.12.4.min.js%22%3E%3C/script%3E%0A%20%20%20%20%3Cscript%20src%3D%22https%3A//maxcdn.bootstrapcdn.com/bootstrap/3.2.0/js/bootstrap.min.js%22%3E%3C/script%3E%0A%20%20%20%20%3Cscript%20src%3D%22https%3A//cdnjs.cloudflare.com/ajax/libs/Leaflet.awesome-markers/2.0.2/leaflet.awesome-markers.js%22%3E%3C/script%3E%0A%20%20%20%20%3Clink%20rel%3D%22stylesheet%22%20href%3D%22https%3A//cdn.jsdelivr.net/npm/leaflet%401.4.0/dist/leaflet.css%22/%3E%0A%20%20%20%20%3Clink%20rel%3D%22stylesheet%22%20href%3D%22https%3A//maxcdn.bootstrapcdn.com/bootstrap/3.2.0/css/bootstrap.min.css%22/%3E%0A%20%20%20%20%3Clink%20rel%3D%22stylesheet%22%20href%3D%22https%3A//maxcdn.bootstrapcdn.com/bootstrap/3.2.0/css/bootstrap-theme.min.css%22/%3E%0A%20%20%20%20%3Clink%20rel%3D%22stylesheet%22%20href%3D%22https%3A//maxcdn.bootstrapcdn.com/font-awesome/4.6.3/css/font-awesome.min.css%22/%3E%0A%20%20%20%20%3Clink%20rel%3D%22stylesheet%22%20href%3D%22https%3A//cdnjs.cloudflare.com/ajax/libs/Leaflet.awesome-markers/2.0.2/leaflet.awesome-markers.css%22/%3E%0A%20%20%20%20%3Clink%20rel%3D%22stylesheet%22%20href%3D%22https%3A//rawcdn.githack.com/python-visualization/folium/master/folium/templates/leaflet.awesome.rotate.css%22/%3E%0A%20%20%20%20%3Cstyle%3Ehtml%2C%20body%20%7Bwidth%3A%20100%25%3Bheight%3A%20100%25%3Bmargin%3A%200%3Bpadding%3A%200%3B%7D%3C/style%3E%0A%20%20%20%20%3Cstyle%3E%23map%20%7Bposition%3Aabsolute%3Btop%3A0%3Bbottom%3A0%3Bright%3A0%3Bleft%3A0%3B%7D%3C/style%3E%0A%20%20%20%20%0A%20%20%20%20%3Cmeta%20name%3D%22viewport%22%20content%3D%22width%3Ddevice-width%2C%0A%20%20%20%20%20%20%20%20initial-scale%3D1.0%2C%20maximum-scale%3D1.0%2C%20user-scalable%3Dno%22%20/%3E%0A%20%20%20%20%3Cstyle%3E%23map_b9010e2c34aa4f6089a8b72bac690708%20%7B%0A%20%20%20%20%20%20%20%20position%3A%20relative%3B%0A%20%20%20%20%20%20%20%20width%3A%20800.0px%3B%0A%20%20%20%20%20%20%20%20height%3A%20500.0px%3B%0A%20%20%20%20%20%20%20%20left%3A%200.0%25%3B%0A%20%20%20%20%20%20%20%20top%3A%200.0%25%3B%0A%20%20%20%20%20%20%20%20%7D%0A%20%20%20%20%3C/style%3E%0A%3C/head%3E%0A%3Cbody%3E%20%20%20%20%0A%20%20%20%20%0A%20%20%20%20%3Cdiv%20class%3D%22folium-map%22%20id%3D%22map_b9010e2c34aa4f6089a8b72bac690708%22%20%3E%3C/div%3E%0A%3C/body%3E%0A%3Cscript%3E%20%20%20%20%0A%20%20%20%20%0A%20%20%20%20%0A%20%20%20%20%20%20%20%20var%20bounds%20%3D%20null%3B%0A%20%20%20%20%0A%0A%20%20%20%20var%20map_b9010e2c34aa4f6089a8b72bac690708%20%3D%20L.map%28%0A%20%20%20%20%20%20%20%20%27map_b9010e2c34aa4f6089a8b72bac690708%27%2C%20%7B%0A%20%20%20%20%20%20%20%20center%3A%20%5B0%2C%200%5D%2C%0A%20%20%20%20%20%20%20%20zoom%3A%201%2C%0A%20%20%20%20%20%20%20%20maxBounds%3A%20bounds%2C%0A%20%20%20%20%20%20%20%20layers%3A%20%5B%5D%2C%0A%20%20%20%20%20%20%20%20worldCopyJump%3A%20false%2C%0A%20%20%20%20%20%20%20%20crs%3A%20L.CRS.EPSG3857%2C%0A%20%20%20%20%20%20%20%20zoomControl%3A%20true%2C%0A%20%20%20%20%20%20%20%20%7D%29%3B%0A%0A%0A%20%20%20%20%0A%20%20%20%20var%20tile_layer_81425ed87a0b4994a6140fca2e80971c%20%3D%20L.tileLayer%28%0A%20%20%20%20%20%20%20%20%27https%3A//%7Bs%7D.tile.openstreetmap.org/%7Bz%7D/%7Bx%7D/%7By%7D.png%27%2C%0A%20%20%20%20%20%20%20%20%7B%0A%20%20%20%20%20%20%20%20%22attribution%22%3A%20null%2C%0A%20%20%20%20%20%20%20%20%22detectRetina%22%3A%20false%2C%0A%20%20%20%20%20%20%20%20%22maxNativeZoom%22%3A%2018%2C%0A%20%20%20%20%20%20%20%20%22maxZoom%22%3A%2018%2C%0A%20%20%20%20%20%20%20%20%22minZoom%22%3A%200%2C%0A%20%20%20%20%20%20%20%20%22noWrap%22%3A%20false%2C%0A%20%20%20%20%20%20%20%20%22opacity%22%3A%201%2C%0A%20%20%20%20%20%20%20%20%22subdomains%22%3A%20%22abc%22%2C%0A%20%20%20%20%20%20%20%20%22tms%22%3A%20false%0A%7D%29.addTo%28map_b9010e2c34aa4f6089a8b72bac690708%29%3B%0A%20%20%20%20%0A%20%20%20%20%20%20%20%20var%20marker_fc7d8f1abdb24b489e0157a783cfc1d5%20%3D%20L.marker%28%0A%20%20%20%20%20%20%20%20%20%20%20%20%5B32.59%2C%20-85.48%5D%2C%0A%20%20%20%20%20%20%20%20%20%20%20%20%7B%0A%20%20%20%20%20%20%20%20%20%20%20%20%20%20%20%20icon%3A%20new%20L.Icon.Default%28%29%2C%0A%20%20%20%20%20%20%20%20%20%20%20%20%20%20%20%20%7D%0A%20%20%20%20%20%20%20%20%20%20%20%20%29.addTo%28map_b9010e2c34aa4f6089a8b72bac690708%29%3B%0A%20%20%20%20%20%20%20%20%0A%3C/script%3E onload=\"this.contentDocument.open();this.contentDocument.write(    decodeURIComponent(this.getAttribute('data-html')));this.contentDocument.close();\" allowfullscreen webkitallowfullscreen mozallowfullscreen></iframe></div></div>"
            ],
            "text/plain": [
              "<folium.folium.Map at 0x7fde496d2110>"
            ]
          },
          "metadata": {
            "tags": []
          },
          "execution_count": 145
        }
      ]
    },
    {
      "cell_type": "markdown",
      "metadata": {
        "id": "m01AWW92kjDA"
      },
      "source": [
        "- As a heatmap on the map"
      ]
    },
    {
      "cell_type": "code",
      "metadata": {
        "id": "2u1PYlGyj4EE"
      },
      "source": [
        "from folium import plugins\r\n",
        "from folium.plugins import HeatMap"
      ],
      "execution_count": null,
      "outputs": []
    },
    {
      "cell_type": "markdown",
      "metadata": {
        "id": "pZs7EezPfy8q"
      },
      "source": [
        "## Heatmap of latitud and longitudes on Map"
      ]
    },
    {
      "cell_type": "code",
      "metadata": {
        "id": "9771burFg45c"
      },
      "source": [
        "sample_df=df.sample(int(0.01*len(x)))\r\n",
        "\r\n",
        "lat_lon_pairs=list(zip(list(x),list(y)))"
      ],
      "execution_count": null,
      "outputs": []
    },
    {
      "cell_type": "code",
      "metadata": {
        "id": "3U8IfWHSj4Bd",
        "colab": {
          "base_uri": "https://localhost:8080/",
          "height": 866
        },
        "outputId": "703fc4e0-6b7d-4dad-d63c-13804c93367b"
      },
      "source": [
        "map=folium.Map(zoom_start=20,tiles=\"Stamen Terrain\")\r\n",
        "HeatMap(lat_lon_pairs[:1000]).add_to(map)\r\n",
        "\r\n",
        "map"
      ],
      "execution_count": 146,
      "outputs": [
        {
          "output_type": "execute_result",
          "data": {
            "text/html": [
              "<div style=\"width:100%;\"><div style=\"position:relative;width:100%;height:0;padding-bottom:60%;\"><span style=\"color:#565656\">Make this Notebook Trusted to load map: File -> Trust Notebook</span><iframe src=\"about:blank\" style=\"position:absolute;width:100%;height:100%;left:0;top:0;border:none !important;\" data-html=%3C%21DOCTYPE%20html%3E%0A%3Chead%3E%20%20%20%20%0A%20%20%20%20%3Cmeta%20http-equiv%3D%22content-type%22%20content%3D%22text/html%3B%20charset%3DUTF-8%22%20/%3E%0A%20%20%20%20%3Cscript%3EL_PREFER_CANVAS%3Dfalse%3B%20L_NO_TOUCH%3Dfalse%3B%20L_DISABLE_3D%3Dfalse%3B%3C/script%3E%0A%20%20%20%20%3Cscript%20src%3D%22https%3A//cdn.jsdelivr.net/npm/leaflet%401.4.0/dist/leaflet.js%22%3E%3C/script%3E%0A%20%20%20%20%3Cscript%20src%3D%22https%3A//code.jquery.com/jquery-1.12.4.min.js%22%3E%3C/script%3E%0A%20%20%20%20%3Cscript%20src%3D%22https%3A//maxcdn.bootstrapcdn.com/bootstrap/3.2.0/js/bootstrap.min.js%22%3E%3C/script%3E%0A%20%20%20%20%3Cscript%20src%3D%22https%3A//cdnjs.cloudflare.com/ajax/libs/Leaflet.awesome-markers/2.0.2/leaflet.awesome-markers.js%22%3E%3C/script%3E%0A%20%20%20%20%3Clink%20rel%3D%22stylesheet%22%20href%3D%22https%3A//cdn.jsdelivr.net/npm/leaflet%401.4.0/dist/leaflet.css%22/%3E%0A%20%20%20%20%3Clink%20rel%3D%22stylesheet%22%20href%3D%22https%3A//maxcdn.bootstrapcdn.com/bootstrap/3.2.0/css/bootstrap.min.css%22/%3E%0A%20%20%20%20%3Clink%20rel%3D%22stylesheet%22%20href%3D%22https%3A//maxcdn.bootstrapcdn.com/bootstrap/3.2.0/css/bootstrap-theme.min.css%22/%3E%0A%20%20%20%20%3Clink%20rel%3D%22stylesheet%22%20href%3D%22https%3A//maxcdn.bootstrapcdn.com/font-awesome/4.6.3/css/font-awesome.min.css%22/%3E%0A%20%20%20%20%3Clink%20rel%3D%22stylesheet%22%20href%3D%22https%3A//cdnjs.cloudflare.com/ajax/libs/Leaflet.awesome-markers/2.0.2/leaflet.awesome-markers.css%22/%3E%0A%20%20%20%20%3Clink%20rel%3D%22stylesheet%22%20href%3D%22https%3A//rawcdn.githack.com/python-visualization/folium/master/folium/templates/leaflet.awesome.rotate.css%22/%3E%0A%20%20%20%20%3Cstyle%3Ehtml%2C%20body%20%7Bwidth%3A%20100%25%3Bheight%3A%20100%25%3Bmargin%3A%200%3Bpadding%3A%200%3B%7D%3C/style%3E%0A%20%20%20%20%3Cstyle%3E%23map%20%7Bposition%3Aabsolute%3Btop%3A0%3Bbottom%3A0%3Bright%3A0%3Bleft%3A0%3B%7D%3C/style%3E%0A%20%20%20%20%0A%20%20%20%20%3Cmeta%20name%3D%22viewport%22%20content%3D%22width%3Ddevice-width%2C%0A%20%20%20%20%20%20%20%20initial-scale%3D1.0%2C%20maximum-scale%3D1.0%2C%20user-scalable%3Dno%22%20/%3E%0A%20%20%20%20%3Cstyle%3E%23map_ed387331e88443d295cd4e327dcb344c%20%7B%0A%20%20%20%20%20%20%20%20position%3A%20relative%3B%0A%20%20%20%20%20%20%20%20width%3A%20100.0%25%3B%0A%20%20%20%20%20%20%20%20height%3A%20100.0%25%3B%0A%20%20%20%20%20%20%20%20left%3A%200.0%25%3B%0A%20%20%20%20%20%20%20%20top%3A%200.0%25%3B%0A%20%20%20%20%20%20%20%20%7D%0A%20%20%20%20%3C/style%3E%0A%20%20%20%20%3Cscript%20src%3D%22https%3A//leaflet.github.io/Leaflet.heat/dist/leaflet-heat.js%22%3E%3C/script%3E%0A%3C/head%3E%0A%3Cbody%3E%20%20%20%20%0A%20%20%20%20%0A%20%20%20%20%3Cdiv%20class%3D%22folium-map%22%20id%3D%22map_ed387331e88443d295cd4e327dcb344c%22%20%3E%3C/div%3E%0A%3C/body%3E%0A%3Cscript%3E%20%20%20%20%0A%20%20%20%20%0A%20%20%20%20%0A%20%20%20%20%20%20%20%20var%20bounds%20%3D%20null%3B%0A%20%20%20%20%0A%0A%20%20%20%20var%20map_ed387331e88443d295cd4e327dcb344c%20%3D%20L.map%28%0A%20%20%20%20%20%20%20%20%27map_ed387331e88443d295cd4e327dcb344c%27%2C%20%7B%0A%20%20%20%20%20%20%20%20center%3A%20%5B0%2C%200%5D%2C%0A%20%20%20%20%20%20%20%20zoom%3A%201%2C%0A%20%20%20%20%20%20%20%20maxBounds%3A%20bounds%2C%0A%20%20%20%20%20%20%20%20layers%3A%20%5B%5D%2C%0A%20%20%20%20%20%20%20%20worldCopyJump%3A%20false%2C%0A%20%20%20%20%20%20%20%20crs%3A%20L.CRS.EPSG3857%2C%0A%20%20%20%20%20%20%20%20zoomControl%3A%20true%2C%0A%20%20%20%20%20%20%20%20%7D%29%3B%0A%0A%0A%20%20%20%20%0A%20%20%20%20var%20tile_layer_053376162a1d4a14a32c40aab7d11272%20%3D%20L.tileLayer%28%0A%20%20%20%20%20%20%20%20%27https%3A//stamen-tiles-%7Bs%7D.a.ssl.fastly.net/terrain/%7Bz%7D/%7Bx%7D/%7By%7D.jpg%27%2C%0A%20%20%20%20%20%20%20%20%7B%0A%20%20%20%20%20%20%20%20%22attribution%22%3A%20null%2C%0A%20%20%20%20%20%20%20%20%22detectRetina%22%3A%20false%2C%0A%20%20%20%20%20%20%20%20%22maxNativeZoom%22%3A%2018%2C%0A%20%20%20%20%20%20%20%20%22maxZoom%22%3A%2018%2C%0A%20%20%20%20%20%20%20%20%22minZoom%22%3A%200%2C%0A%20%20%20%20%20%20%20%20%22noWrap%22%3A%20false%2C%0A%20%20%20%20%20%20%20%20%22opacity%22%3A%201%2C%0A%20%20%20%20%20%20%20%20%22subdomains%22%3A%20%22abc%22%2C%0A%20%20%20%20%20%20%20%20%22tms%22%3A%20false%0A%7D%29.addTo%28map_ed387331e88443d295cd4e327dcb344c%29%3B%0A%20%20%20%20%0A%20%20%20%20%20%20%20%20%20%20%20%20var%20heat_map_59bf78c2bcfa4a448421e7f2fd750af7%20%3D%20L.heatLayer%28%0A%20%20%20%20%20%20%20%20%20%20%20%20%20%20%20%20%5B%5B32.59%2C%20-85.48%5D%2C%20%5B32.5475%2C%20-85.4682%5D%2C%20%5B32.616807%2C%20-85.464149%5D%2C%20%5B32.8616%2C%20-85.2161%5D%2C%20%5B32.5475%2C%20-85.4682%5D%2C%20%5B32.59%2C%20-85.48%5D%2C%20%5B32.59%2C%20-85.48%5D%2C%20%5B32.59%2C%20-85.48%5D%2C%20%5B32.59%2C%20-85.48%5D%2C%20%5B36.967357%2C%20-122.024254%5D%2C%20%5B32.639%2C%20-85.3803%5D%2C%20%5B32.59%2C%20-85.48%5D%2C%20%5B32.59%2C%20-85.48%5D%2C%20%5B32.623299%2C%20-85.481787%5D%2C%20%5B33.1512%2C%20-85.3722%5D%2C%20%5B26.703851%2C%20-80.08199599999998%5D%2C%20%5B32.59%2C%20-85.48%5D%2C%20%5B32.7632%2C%20-85.5144%5D%2C%20%5B32.59%2C%20-85.48%5D%2C%20%5B32.611442%2C%20-85.481615%5D%2C%20%5B32.6212%2C%20-85.184%5D%2C%20%5B32.951775%2C%20-85.94718%5D%2C%20%5B32.59%2C%20-85.48%5D%2C%20%5B32.59%2C%20-85.48%5D%2C%20%5B32.5475%2C%20-85.4682%5D%2C%20%5B33.1512%2C%20-85.3722%5D%2C%20%5B32.59%2C%20-85.48%5D%2C%20%5B32.59%2C%20-85.48%5D%2C%20%5B38.60755%2C%20-121.401945%5D%2C%20%5B32.59%2C%20-85.48%5D%2C%20%5B38.641098%2C%20-121.428624%5D%2C%20%5B38.641098%2C%20-121.428624%5D%2C%20%5B38.641098%2C%20-121.428624%5D%2C%20%5B38.641098%2C%20-121.428624%5D%2C%20%5B38.641098%2C%20-121.428624%5D%2C%20%5B38.641098%2C%20-121.428624%5D%2C%20%5B38.641098%2C%20-121.428624%5D%2C%20%5B38.641098%2C%20-121.428624%5D%2C%20%5B37.963201%2C%20-122.509472%5D%2C%20%5B37.963201%2C%20-122.509472%5D%2C%20%5B37.963201%2C%20-122.509472%5D%2C%20%5B32.59%2C%20-85.48%5D%2C%20%5B32.59%2C%20-85.48%5D%2C%20%5B32.940606%2C%20-85.95874599999998%5D%2C%20%5B32.59%2C%20-85.48%5D%2C%20%5B32.59%2C%20-85.48%5D%2C%20%5B32.5475%2C%20-85.4682%5D%2C%20%5B32.59%2C%20-85.48%5D%2C%20%5B32.59%2C%20-85.48%5D%2C%20%5B38.641098%2C%20-121.428624%5D%2C%20%5B38.641098%2C%20-121.428624%5D%2C%20%5B38.641098%2C%20-121.428624%5D%2C%20%5B38.641098%2C%20-121.428624%5D%2C%20%5B38.641098%2C%20-121.428624%5D%2C%20%5B32.59%2C%20-85.48%5D%2C%20%5B38.641098%2C%20-121.428624%5D%2C%20%5B38.641098%2C%20-121.428624%5D%2C%20%5B38.641098%2C%20-121.428624%5D%2C%20%5B38.641098%2C%20-121.428624%5D%2C%20%5B38.641098%2C%20-121.428624%5D%2C%20%5B32.59%2C%20-85.48%5D%2C%20%5B32.609009%2C%20-85.481011%5D%2C%20%5B32.59%2C%20-85.48%5D%2C%20%5B32.592%2C%20-85.5189%5D%2C%20%5B32.4715%2C%20-86.4831%5D%2C%20%5B32.59%2C%20-85.48%5D%2C%20%5B32.59%2C%20-85.48%5D%2C%20%5B32.59%2C%20-85.48%5D%2C%20%5B32.5475%2C%20-85.4682%5D%2C%20%5B38.641098%2C%20-121.428624%5D%2C%20%5B38.641098%2C%20-121.428624%5D%2C%20%5B38.641098%2C%20-121.428624%5D%2C%20%5B38.641098%2C%20-121.428624%5D%2C%20%5B32.59%2C%20-85.48%5D%2C%20%5B38.641098%2C%20-121.428624%5D%2C%20%5B38.641098%2C%20-121.428624%5D%2C%20%5B38.641098%2C%20-121.428624%5D%2C%20%5B38.641098%2C%20-121.428624%5D%2C%20%5B38.641098%2C%20-121.428624%5D%2C%20%5B32.59%2C%20-85.48%5D%2C%20%5B32.59%2C%20-85.48%5D%2C%20%5B34.2544%2C%20-118.2849%5D%2C%20%5B47.31358400000001%2C%20-122.225521%5D%2C%20%5B47.31358400000001%2C%20-122.225521%5D%2C%20%5B47.31358400000001%2C%20-122.225521%5D%2C%20%5B47.31358400000001%2C%20-122.225521%5D%2C%20%5B32.59%2C%20-85.48%5D%2C%20%5B33.5242%2C%20-84.359%5D%2C%20%5B34.9506%2C%20-85.2432%5D%2C%20%5B33.455361%2C%20-86.962474%5D%2C%20%5B34.206619%2C%20-84.77769599999998%5D%2C%20%5B34.46656%2C%20-85.35894%5D%2C%20%5B34.46656%2C%20-85.35894%5D%2C%20%5B34.46656%2C%20-85.35894%5D%2C%20%5B34.46656%2C%20-85.35894%5D%2C%20%5B34.206548%2C%20-84.777782%5D%2C%20%5B34.206548%2C%20-84.777728%5D%2C%20%5B36.23818%2C%20-79.978983%5D%2C%20%5B33.521%2C%20-86.8066%5D%2C%20%5B33.455361%2C%20-86.962474%5D%2C%20%5B33.108769%2C%20-86.734228%5D%2C%20%5B33.1248%2C%20-86.8622%5D%2C%20%5B33.6989%2C%20-84.7454%5D%2C%20%5B33.521%2C%20-86.8066%5D%2C%20%5B33.52%2C%20-86.79%5D%2C%20%5B33.521%2C%20-86.8066%5D%2C%20%5B33.669601%2C%20-86.817617%5D%2C%20%5B32.4197%2C%20-87.0245%5D%2C%20%5B33.52%2C%20-86.79%5D%2C%20%5B33.52%2C%20-86.79%5D%2C%20%5B33.521%2C%20-86.8066%5D%2C%20%5B32.9229%2C%20-86.545%5D%2C%20%5B32.9229%2C%20-86.545%5D%2C%20%5B32.9229%2C%20-86.545%5D%2C%20%5B32.9229%2C%20-86.545%5D%2C%20%5B33.168322%2C%20-87.491902%5D%2C%20%5B33.168322%2C%20-87.491902%5D%2C%20%5B33.52%2C%20-86.79%5D%2C%20%5B33.521%2C%20-86.8066%5D%2C%20%5B33.52%2C%20-86.79%5D%2C%20%5B33.52%2C%20-86.79%5D%2C%20%5B33.4653%2C%20-86.8082%5D%2C%20%5B33.4619%2C%20-94.4375%5D%2C%20%5B33.6989%2C%20-84.7454%5D%2C%20%5B33.4354%2C%20-86.1134%5D%2C%20%5B33.455361%2C%20-86.962474%5D%2C%20%5B32.8653%2C%20-96.9905%5D%2C%20%5B34.016256%2C%20-86.66387900000002%5D%2C%20%5B33.2459%2C%20-86.3641%5D%2C%20%5B33.455361%2C%20-86.962474%5D%2C%20%5B33.649773%2C%20-86.610105%5D%2C%20%5B40.468826%2C%20-74.281734%5D%2C%20%5B40.468826%2C%20-74.281734%5D%2C%20%5B40.468826%2C%20-74.281734%5D%2C%20%5B40.468826%2C%20-74.281734%5D%2C%20%5B40.468826%2C%20-74.281734%5D%2C%20%5B40.468826%2C%20-74.281734%5D%2C%20%5B40.468826%2C%20-74.281734%5D%2C%20%5B40.468826%2C%20-74.281734%5D%2C%20%5B40.468826%2C%20-74.281734%5D%2C%20%5B40.468826%2C%20-74.281734%5D%2C%20%5B40.468826%2C%20-74.281734%5D%2C%20%5B40.468826%2C%20-74.281734%5D%2C%20%5B40.468826%2C%20-74.281734%5D%2C%20%5B40.468826%2C%20-74.281734%5D%2C%20%5B40.468826%2C%20-74.281734%5D%2C%20%5B40.468826%2C%20-74.281734%5D%2C%20%5B40.468826%2C%20-74.281734%5D%2C%20%5B40.468826%2C%20-74.281734%5D%2C%20%5B40.468826%2C%20-74.281734%5D%2C%20%5B40.468826%2C%20-74.281734%5D%2C%20%5B40.468826%2C%20-74.281734%5D%2C%20%5B40.468826%2C%20-74.281734%5D%2C%20%5B40.468826%2C%20-74.281734%5D%2C%20%5B40.468826%2C%20-74.281734%5D%2C%20%5B40.468826%2C%20-74.281734%5D%2C%20%5B40.468826%2C%20-74.281734%5D%2C%20%5B40.468826%2C%20-74.281734%5D%2C%20%5B40.468826%2C%20-74.281734%5D%2C%20%5B40.468826%2C%20-74.281734%5D%2C%20%5B40.468826%2C%20-74.281734%5D%2C%20%5B40.468826%2C%20-74.281734%5D%2C%20%5B40.468826%2C%20-74.281734%5D%2C%20%5B34.1124%2C%20-84.302%5D%2C%20%5B33.262776%2C%20-86.347389%5D%2C%20%5B33.263781%2C%20-86.346874%5D%2C%20%5B33.1717%2C%20-86.2713%5D%2C%20%5B33.209249%2C%20-86.78358100000001%5D%2C%20%5B33.263924%2C%20-86.348076%5D%2C%20%5B33.455361%2C%20-86.962474%5D%2C%20%5B36.0127%2C%20-86.56%5D%2C%20%5B33.262776%2C%20-86.346016%5D%2C%20%5B34.9803%2C%20-81.9168%5D%2C%20%5B33.263063%2C%20-86.347389%5D%2C%20%5B33.263236%2C%20-86.347389%5D%2C%20%5B33.209967%2C%20-86.783066%5D%2C%20%5B33.20968%2C%20-86.783237%5D%2C%20%5B33.20968%2C%20-86.782894%5D%2C%20%5B33.209537%2C%20-86.783237%5D%2C%20%5B33.209106%2C%20-86.783066%5D%2C%20%5B33.455361%2C%20-86.962474%5D%2C%20%5B33.193000000000005%2C%20-86.794%5D%2C%20%5B33.5452%2C%20-86.6655%5D%2C%20%5B33.4354%2C%20-86.1134%5D%2C%20%5B33.415861%2C%20-86.988407%5D%2C%20%5B33.455361%2C%20-86.962474%5D%2C%20%5B33.20968%2C%20-86.783237%5D%2C%20%5B33.52%2C%20-86.79%5D%2C%20%5B33.52%2C%20-86.79%5D%2C%20%5B33.415915000000005%2C%20-86.988529%5D%2C%20%5B33.669601%2C%20-86.817617%5D%2C%20%5B33.546749%2C%20-86.539801%5D%2C%20%5B33.546749%2C%20-86.539801%5D%2C%20%5B32.9229%2C%20-86.545%5D%2C%20%5B32.9229%2C%20-86.545%5D%2C%20%5B32.9229%2C%20-86.545%5D%2C%20%5B32.9229%2C%20-86.545%5D%2C%20%5B33.353975%2C%20-86.866536%5D%2C%20%5B33.168322%2C%20-87.491902%5D%2C%20%5B33.168322%2C%20-87.491902%5D%2C%20%5B33.52%2C%20-86.79%5D%2C%20%5B33.52%2C%20-86.79%5D%2C%20%5B33.52%2C%20-86.79%5D%2C%20%5B33.52%2C%20-86.79%5D%2C%20%5B32.821%2C%20-88.1589%5D%2C%20%5B33.7606%2C%20-84.7477%5D%2C%20%5B33.669601%2C%20-86.817617%5D%2C%20%5B33.440484000000005%2C%20-86.79032099999998%5D%2C%20%5B33.1934%2C%20-86.7944%5D%2C%20%5B33.2663%2C%20-86.902%5D%2C%20%5B33.2663%2C%20-86.902%5D%2C%20%5B33.177%2C%20-86.6161%5D%2C%20%5B33.427014%2C%20-86.811326%5D%2C%20%5B33.401%2C%20-86.3994%5D%2C%20%5B33.455361%2C%20-86.962474%5D%2C%20%5B33.479134%2C%20-86.793022%5D%2C%20%5B33.455361%2C%20-86.962474%5D%2C%20%5B33.649773%2C%20-86.610105%5D%2C%20%5B33.6989%2C%20-84.7454%5D%2C%20%5B35.2507%2C%20-87.3526%5D%2C%20%5B33.604240000000004%2C%20-86.280355%5D%2C%20%5B33.209824%2C%20-86.782894%5D%2C%20%5B33.20968%2C%20-86.783066%5D%2C%20%5B33.209507%2C%20-86.783323%5D%2C%20%5B33.209824%2C%20-86.783237%5D%2C%20%5B33.209824%2C%20-86.783237%5D%2C%20%5B33.177%2C%20-86.6161%5D%2C%20%5B33.604383%2C%20-86.279926%5D%2C%20%5B33.455361%2C%20-86.962474%5D%2C%20%5B33.604454%2C%20-86.279926%5D%2C%20%5B33.209824%2C%20-86.782894%5D%2C%20%5B33.209537%2C%20-86.783066%5D%2C%20%5B33.2293%2C%20-86.5299%5D%2C%20%5B33.604454%2C%20-86.280441%5D%2C%20%5B33.209393%2C%20-86.783066%5D%2C%20%5B33.209824%2C%20-86.783237%5D%2C%20%5B34.2098%2C%20-86.75200000000002%5D%2C%20%5B33.4188%2C%20-86.7867%5D%2C%20%5B33.2293%2C%20-86.5299%5D%2C%20%5B33.209393%2C%20-86.783066%5D%2C%20%5B33.604526%2C%20-86.280098%5D%2C%20%5B33.209824%2C%20-86.78340899999998%5D%2C%20%5B33.209537%2C%20-86.78358100000001%5D%2C%20%5B33.604597%2C%20-86.279669%5D%2C%20%5B33.20968%2C%20-86.783237%5D%2C%20%5B33.604097%2C%20-86.28027%5D%2C%20%5B33.52%2C%20-86.79%5D%2C%20%5B34.9506%2C%20-85.2432%5D%2C%20%5B33.52%2C%20-86.79%5D%2C%20%5B33.52%2C%20-86.79%5D%2C%20%5B33.52%2C%20-86.79%5D%2C%20%5B33.52%2C%20-86.79%5D%2C%20%5B33.52%2C%20-86.79%5D%2C%20%5B33.455361%2C%20-86.962474%5D%2C%20%5B34.9506%2C%20-85.2432%5D%2C%20%5B33.184538%2C%20-86.350083%5D%2C%20%5B33.4653%2C%20-86.8082%5D%2C%20%5B36.1379%2C%20-86.741%5D%2C%20%5B34.9506%2C%20-85.2432%5D%2C%20%5B33.5219%2C%20-86.7666%5D%2C%20%5B33.400217%2C%20-86.705349%5D%2C%20%5B32.8355%2C%20-86.6425%5D%2C%20%5B34.931231%2C%20-88.543196%5D%2C%20%5B36.1379%2C%20-86.741%5D%2C%20%5B33.6339%2C%20-86.5981%5D%2C%20%5B33.6339%2C%20-86.5981%5D%2C%20%5B33.6339%2C%20-86.5981%5D%2C%20%5B36.1379%2C%20-86.741%5D%2C%20%5B34.930809%2C%20-88.543539%5D%2C%20%5B33.6339%2C%20-86.5981%5D%2C%20%5B33.649773%2C%20-86.610105%5D%2C%20%5B33.649773%2C%20-86.610105%5D%2C%20%5B33.649773%2C%20-86.610105%5D%2C%20%5B34.932217%2C%20-88.542852%5D%2C%20%5B32.9229%2C%20-86.545%5D%2C%20%5B33.455361%2C%20-86.962474%5D%2C%20%5B34.932357%2C%20-88.543196%5D%2C%20%5B34.932076%2C%20-88.542681%5D%2C%20%5B34.982021%2C%20-88.46491800000003%5D%2C%20%5B34.982162%2C%20-88.46474599999998%5D%2C%20%5B34.982162%2C%20-88.46474599999998%5D%2C%20%5B34.932076%2C%20-88.543367%5D%2C%20%5B34.931513%2C%20-88.543367%5D%2C%20%5B34.98174%2C%20-88.46509%5D%2C%20%5B34.932357%2C%20-88.541651%5D%2C%20%5B33.669601%2C%20-86.817617%5D%2C%20%5B33.9382%2C%20-84.5403%5D%2C%20%5B36.3834%2C%20-86.4512%5D%2C%20%5B34.0782%2C%20-84.2281%5D%2C%20%5B8.638978999999999%2C%20-96.855388%5D%2C%20%5B33.168322%2C%20-87.491902%5D%2C%20%5B33.411497%2C%20-86.74306899999998%5D%2C%20%5B33.7677%2C%20-85.0133%5D%2C%20%5B33.7677%2C%20-85.0133%5D%2C%20%5B33.7677%2C%20-85.0133%5D%2C%20%5B33.7677%2C%20-85.0133%5D%2C%20%5B34.7448%2C%20-86.6704%5D%2C%20%5B33.7606%2C%20-84.7477%5D%2C%20%5B33.669601%2C%20-86.817617%5D%2C%20%5B34.0425%2C%20-84.0262%5D%2C%20%5B33.455361%2C%20-86.962474%5D%2C%20%5B33.455361%2C%20-86.962474%5D%2C%20%5B33.209789%2C%20-86.783493%5D%2C%20%5B33.209789%2C%20-86.783493%5D%2C%20%5B33.209789%2C%20-86.783493%5D%2C%20%5B33.768%2C%20-87.0445%5D%2C%20%5B33.455361%2C%20-86.962474%5D%2C%20%5B33.209789%2C%20-86.783493%5D%2C%20%5B33.3224%2C%20-86.9657%5D%2C%20%5B33.209789%2C%20-86.783493%5D%2C%20%5B33.3538%2C%20-86.8254%5D%2C%20%5B33.4653%2C%20-86.8082%5D%2C%20%5B33.3813%2C%20-86.7046%5D%2C%20%5B33.209789%2C%20-86.783493%5D%2C%20%5B33.455361%2C%20-86.962474%5D%2C%20%5B33.209789%2C%20-86.783493%5D%2C%20%5B33.5887%2C%20-86.765%5D%2C%20%5B33.209789%2C%20-86.783493%5D%2C%20%5B33.4653%2C%20-86.8082%5D%2C%20%5B33.209789%2C%20-86.783493%5D%2C%20%5B33.455361%2C%20-86.962474%5D%2C%20%5B33.209789%2C%20-86.783493%5D%2C%20%5B33.7299%2C%20-86.6451%5D%2C%20%5B33.669601%2C%20-86.817617%5D%2C%20%5B35.240404%2C%20-80.901674%5D%2C%20%5B35.240404%2C%20-80.901674%5D%2C%20%5B33.52%2C%20-86.79%5D%2C%20%5B33.52%2C%20-86.79%5D%2C%20%5B33.52%2C%20-86.79%5D%2C%20%5B33.52%2C%20-86.79%5D%2C%20%5B33.52%2C%20-86.79%5D%2C%20%5B1.241841%2C%20-109.643839%5D%2C%20%5B33.52%2C%20-86.79%5D%2C%20%5B33.168322%2C%20-87.491902%5D%2C%20%5B33.468%2C%20-87.0924%5D%2C%20%5B33.191575%2C%20-86.514587%5D%2C%20%5B34.823179%2C%20-86.60396800000002%5D%2C%20%5B33.669601%2C%20-86.817617%5D%2C%20%5B33.6339%2C%20-86.5981%5D%2C%20%5B34.206404%2C%20-84.77786800000001%5D%2C%20%5B33.513166%2C%20-86.780333%5D%2C%20%5B33.6339%2C%20-86.5981%5D%2C%20%5B33.6339%2C%20-86.5981%5D%2C%20%5B33.6339%2C%20-86.5981%5D%2C%20%5B34.206475%2C%20-84.777846%5D%2C%20%5B33.1083%2C%20-86.71799999999998%5D%2C%20%5B33.6339%2C%20-86.5981%5D%2C%20%5B33.6339%2C%20-86.5981%5D%2C%20%5B33.8529%2C%20-86.8198%5D%2C%20%5B33.455361%2C%20-86.962474%5D%2C%20%5B33.4558%2C%20-86.9118%5D%2C%20%5B33.455361%2C%20-86.962474%5D%2C%20%5B33.455361%2C%20-86.962474%5D%2C%20%5B33.209789%2C%20-86.783493%5D%2C%20%5B33.4013%2C%20-84.654%5D%2C%20%5B33.455361%2C%20-86.962474%5D%2C%20%5B33.209789%2C%20-86.783493%5D%2C%20%5B33.723%2C%20-84.4702%5D%2C%20%5B33.723%2C%20-84.4702%5D%2C%20%5B34.657607%2C%20-87.782814%5D%2C%20%5B33.209789%2C%20-86.783493%5D%2C%20%5B33.455361%2C%20-86.962474%5D%2C%20%5B33.209789%2C%20-86.783493%5D%2C%20%5B32.8864%2C%20-86.6212%5D%2C%20%5B33.455361%2C%20-86.962474%5D%2C%20%5B33.209789%2C%20-86.783493%5D%2C%20%5B32.9791%2C%20-86.0484%5D%2C%20%5B33.209789%2C%20-86.783493%5D%2C%20%5B33.6339%2C%20-86.5981%5D%2C%20%5B33.455361%2C%20-86.962474%5D%2C%20%5B33.209789%2C%20-86.783493%5D%2C%20%5B34.4965%2C%20-84.9345%5D%2C%20%5B33.52901%2C%20-86.76878%5D%2C%20%5B34.2056%2C%20-86.85834%5D%2C%20%5B33.209789%2C%20-86.783493%5D%2C%20%5B33.7299%2C%20-86.6451%5D%2C%20%5B33.455361%2C%20-86.962474%5D%2C%20%5B33.209789%2C%20-86.783493%5D%2C%20%5B33.52%2C%20-86.79%5D%2C%20%5B33.52%2C%20-86.79%5D%2C%20%5B34.339168%2C%20-84.021823%5D%2C%20%5B33.3538%2C%20-86.8254%5D%2C%20%5B33.669601%2C%20-86.817617%5D%2C%20%5B33.374549%2C%20-86.79594%5D%2C%20%5B33.52%2C%20-86.79%5D%2C%20%5B33.940106%2C%20-87.22008100000002%5D%2C%20%5B33.4653%2C%20-86.8082%5D%2C%20%5B32.9229%2C%20-86.545%5D%2C%20%5B33.168322%2C%20-87.491902%5D%2C%20%5B33.52%2C%20-86.79%5D%2C%20%5B33.52%2C%20-86.79%5D%2C%20%5B33.52%2C%20-86.79%5D%2C%20%5B34.7448%2C%20-86.6704%5D%2C%20%5B33.669601%2C%20-86.817617%5D%2C%20%5B33.7217%2C%20-84.3339%5D%2C%20%5B31.316064%2C%20-89.43711400000002%5D%2C%20%5B31.316064%2C%20-89.43711400000002%5D%2C%20%5B31.316064%2C%20-89.43711400000002%5D%2C%20%5B31.316064%2C%20-89.43711400000002%5D%2C%20%5B31.316064%2C%20-89.43711400000002%5D%2C%20%5B31.316064%2C%20-89.43711400000002%5D%2C%20%5B33.6339%2C%20-86.5981%5D%2C%20%5B33.6339%2C%20-86.5981%5D%2C%20%5B33.6339%2C%20-86.5981%5D%2C%20%5B33.6339%2C%20-86.5981%5D%2C%20%5B33.6339%2C%20-86.5981%5D%2C%20%5B33.6339%2C%20-86.5981%5D%2C%20%5B33.6339%2C%20-86.5981%5D%2C%20%5B33.455361%2C%20-86.962474%5D%2C%20%5B33.350978000000005%2C%20-86.568249%5D%2C%20%5B35.240404%2C%20-80.901674%5D%2C%20%5B35.240404%2C%20-80.901674%5D%2C%20%5B34.08095%2C%20-86.795082%5D%2C%20%5B33.455361%2C%20-86.962474%5D%2C%20%5B33.7655%2C%20-84.6469%5D%2C%20%5B33.455361%2C%20-86.962474%5D%2C%20%5B33.7299%2C%20-86.6451%5D%2C%20%5B33.455361%2C%20-86.962474%5D%2C%20%5B33.209795%2C%20-86.782551%5D%2C%20%5B34.9506%2C%20-85.2432%5D%2C%20%5B33.209106%2C%20-86.783066%5D%2C%20%5B33.5066%2C%20-86.7428%5D%2C%20%5B33.209824%2C%20-86.783237%5D%2C%20%5B33.5066%2C%20-86.7428%5D%2C%20%5B33.5066%2C%20-86.7428%5D%2C%20%5B33.5066%2C%20-86.7428%5D%2C%20%5B33.5066%2C%20-86.7428%5D%2C%20%5B33.5066%2C%20-86.7428%5D%2C%20%5B33.5066%2C%20-86.7428%5D%2C%20%5B33.5066%2C%20-86.7428%5D%2C%20%5B33.20968%2C%20-86.783066%5D%2C%20%5B33.209537%2C%20-86.783237%5D%2C%20%5B33.209824%2C%20-86.783237%5D%2C%20%5B36.1379%2C%20-86.741%5D%2C%20%5B36.1379%2C%20-86.741%5D%2C%20%5B36.1379%2C%20-86.741%5D%2C%20%5B36.1379%2C%20-86.741%5D%2C%20%5B33.209537%2C%20-86.783752%5D%2C%20%5B33.20968%2C%20-86.783066%5D%2C%20%5B36.1379%2C%20-86.741%5D%2C%20%5B36.1379%2C%20-86.741%5D%2C%20%5B36.1379%2C%20-86.741%5D%2C%20%5B33.2932%2C%20-86.76799999999999%5D%2C%20%5B36.1379%2C%20-86.741%5D%2C%20%5B36.1379%2C%20-86.741%5D%2C%20%5B33.4653%2C%20-86.8082%5D%2C%20%5B33.455361%2C%20-86.962474%5D%2C%20%5B34.9506%2C%20-85.2432%5D%2C%20%5B34.2056%2C%20-86.85834%5D%2C%20%5B33.2615%2C%20-86.385%5D%2C%20%5B33.415861%2C%20-86.988407%5D%2C%20%5B33.455361%2C%20-86.962474%5D%2C%20%5B33.415861%2C%20-86.988407%5D%2C%20%5B33.52%2C%20-86.79%5D%2C%20%5B33.52%2C%20-86.79%5D%2C%20%5B33.669601%2C%20-86.817617%5D%2C%20%5B33.52%2C%20-86.79%5D%2C%20%5B34.077612%2C%20-86.60806600000002%5D%2C%20%5B36.3834%2C%20-86.4512%5D%2C%20%5B33.6634%2C%20-84.8639%5D%2C%20%5B33.168322%2C%20-87.491902%5D%2C%20%5B33.52%2C%20-86.79%5D%2C%20%5B33.52%2C%20-86.79%5D%2C%20%5B33.52%2C%20-86.79%5D%2C%20%5B28.0091%2C%20-82.5034%5D%2C%20%5B33.669601%2C%20-86.817617%5D%2C%20%5B34.2134%2C%20-83.448%5D%2C%20%5B33.455361%2C%20-86.962474%5D%2C%20%5B32.332046000000005%2C%20-90.857163%5D%2C%20%5B33.455361%2C%20-86.962474%5D%2C%20%5B33.52%2C%20-86.79%5D%2C%20%5B33.455361%2C%20-86.962474%5D%2C%20%5B33.52%2C%20-86.79%5D%2C%20%5B33.52%2C%20-86.79%5D%2C%20%5B33.52%2C%20-86.79%5D%2C%20%5B33.52%2C%20-86.79%5D%2C%20%5B33.52%2C%20-86.79%5D%2C%20%5B33.6035%2C%20-86.4668%5D%2C%20%5B33.455361%2C%20-86.962474%5D%2C%20%5B33.4558%2C%20-86.9118%5D%2C%20%5B34.2056%2C%20-86.85834%5D%2C%20%5B34.2056%2C%20-86.85834%5D%2C%20%5B33.455361%2C%20-86.962474%5D%2C%20%5B33.669601%2C%20-86.817617%5D%2C%20%5B33.2459%2C%20-86.3641%5D%2C%20%5B33.6339%2C%20-86.5981%5D%2C%20%5B33.6035%2C%20-86.4668%5D%2C%20%5B33.925578%2C%20-84.83604100000002%5D%2C%20%5B33.168322%2C%20-87.491902%5D%2C%20%5B33.669601%2C%20-86.817617%5D%2C%20%5B33.4188%2C%20-86.7867%5D%2C%20%5B33.7299%2C%20-86.6451%5D%2C%20%5B33.455361%2C%20-86.962474%5D%2C%20%5B33.455361%2C%20-86.962474%5D%2C%20%5B33.1767%2C%20-87.3871%5D%2C%20%5B33.1767%2C%20-87.3871%5D%2C%20%5B33.1767%2C%20-87.3871%5D%2C%20%5B33.521%2C%20-86.8066%5D%2C%20%5B33.209824%2C%20-86.783237%5D%2C%20%5B33.209249%2C%20-86.78358100000001%5D%2C%20%5B33.20968%2C%20-86.783066%5D%2C%20%5B33.20968%2C%20-86.783066%5D%2C%20%5B33.209824%2C%20-86.78340899999998%5D%2C%20%5B33.20968%2C%20-86.78340899999998%5D%2C%20%5B33.20968%2C%20-86.78340899999998%5D%2C%20%5B33.521%2C%20-86.8066%5D%2C%20%5B33.455361%2C%20-86.962474%5D%2C%20%5B33.20968%2C%20-86.78358100000001%5D%2C%20%5B33.521%2C%20-86.8066%5D%2C%20%5B33.20968%2C%20-86.783066%5D%2C%20%5B36.0127%2C%20-86.56%5D%2C%20%5B33.5242%2C%20-84.359%5D%2C%20%5B34.586557%2C%20-83.76124300000002%5D%2C%20%5B34.586557%2C%20-83.76124300000002%5D%2C%20%5B34.586557%2C%20-83.76124300000002%5D%2C%20%5B34.586557%2C%20-83.76124300000002%5D%2C%20%5B34.586557%2C%20-83.76124300000002%5D%2C%20%5B34.586557%2C%20-83.76124300000002%5D%2C%20%5B34.586557%2C%20-83.76124300000002%5D%2C%20%5B34.586557%2C%20-83.76124300000002%5D%2C%20%5B34.586557%2C%20-83.76124300000002%5D%2C%20%5B34.586557%2C%20-83.76124300000002%5D%2C%20%5B34.586557%2C%20-83.76124300000002%5D%2C%20%5B34.586557%2C%20-83.76124300000002%5D%2C%20%5B34.586557%2C%20-83.76124300000002%5D%2C%20%5B34.586557%2C%20-83.76124300000002%5D%2C%20%5B34.586557%2C%20-83.76124300000002%5D%2C%20%5B34.586557%2C%20-83.76124300000002%5D%2C%20%5B34.586557%2C%20-83.76124300000002%5D%2C%20%5B34.586557%2C%20-83.76124300000002%5D%2C%20%5B34.586557%2C%20-83.76124300000002%5D%2C%20%5B34.586557%2C%20-83.76124300000002%5D%2C%20%5B34.586557%2C%20-83.76124300000002%5D%2C%20%5B34.586557%2C%20-83.76124300000002%5D%2C%20%5B34.586557%2C%20-83.76124300000002%5D%2C%20%5B34.586557%2C%20-83.76124300000002%5D%2C%20%5B34.586557%2C%20-83.76124300000002%5D%2C%20%5B34.586557%2C%20-83.76124300000002%5D%2C%20%5B34.586557%2C%20-83.76124300000002%5D%2C%20%5B34.586557%2C%20-83.76124300000002%5D%2C%20%5B34.586557%2C%20-83.76124300000002%5D%2C%20%5B34.586557%2C%20-83.76124300000002%5D%2C%20%5B34.586557%2C%20-83.76124300000002%5D%2C%20%5B34.586557%2C%20-83.76124300000002%5D%2C%20%5B34.586557%2C%20-83.76124300000002%5D%2C%20%5B34.586557%2C%20-83.76124300000002%5D%2C%20%5B34.586557%2C%20-83.76124300000002%5D%2C%20%5B34.586557%2C%20-83.76124300000002%5D%2C%20%5B34.586557%2C%20-83.76124300000002%5D%2C%20%5B34.586557%2C%20-83.76124300000002%5D%2C%20%5B34.586557%2C%20-83.76124300000002%5D%2C%20%5B34.586557%2C%20-83.76124300000002%5D%2C%20%5B34.586557%2C%20-83.76124300000002%5D%2C%20%5B34.586557%2C%20-83.76124300000002%5D%2C%20%5B34.586557%2C%20-83.76124300000002%5D%2C%20%5B34.586557%2C%20-83.76124300000002%5D%2C%20%5B34.586557%2C%20-83.76124300000002%5D%2C%20%5B34.586557%2C%20-83.76124300000002%5D%2C%20%5B34.586557%2C%20-83.76124300000002%5D%2C%20%5B34.586557%2C%20-83.76124300000002%5D%2C%20%5B34.586557%2C%20-83.76124300000002%5D%2C%20%5B34.586557%2C%20-83.76124300000002%5D%2C%20%5B34.586557%2C%20-83.76124300000002%5D%2C%20%5B34.586557%2C%20-83.76124300000002%5D%2C%20%5B34.586557%2C%20-83.76124300000002%5D%2C%20%5B34.586557%2C%20-83.76124300000002%5D%2C%20%5B34.586557%2C%20-83.76124300000002%5D%2C%20%5B34.586557%2C%20-83.76124300000002%5D%2C%20%5B34.586557%2C%20-83.76124300000002%5D%2C%20%5B33.6989%2C%20-84.7454%5D%2C%20%5B33.455361%2C%20-86.962474%5D%2C%20%5B33.521%2C%20-86.8066%5D%2C%20%5B33.3813%2C%20-86.7046%5D%2C%20%5B33.3813%2C%20-86.7046%5D%2C%20%5B33.4883%2C%20-86.9766%5D%2C%20%5B34.2056%2C%20-86.85834%5D%2C%20%5B34.2056%2C%20-86.85834%5D%2C%20%5B33.521%2C%20-86.8066%5D%2C%20%5B33.468%2C%20-87.0924%5D%2C%20%5B34.9506%2C%20-85.2432%5D%2C%20%5B33.455361%2C%20-86.962474%5D%2C%20%5B34.9506%2C%20-85.2432%5D%2C%20%5B33.6339%2C%20-86.5981%5D%2C%20%5B34.9506%2C%20-85.2432%5D%2C%20%5B33.6339%2C%20-86.5981%5D%2C%20%5B33.5242%2C%20-84.359%5D%2C%20%5B33.6339%2C%20-86.5981%5D%2C%20%5B33.6339%2C%20-86.5981%5D%2C%20%5B33.6339%2C%20-86.5981%5D%2C%20%5B34.9803%2C%20-81.9168%5D%2C%20%5B33.669601%2C%20-86.817617%5D%2C%20%5B34.586557%2C%20-83.76124300000002%5D%2C%20%5B34.586557%2C%20-83.76124300000002%5D%2C%20%5B34.586557%2C%20-83.76124300000002%5D%2C%20%5B34.586557%2C%20-83.76124300000002%5D%2C%20%5B34.586557%2C%20-83.76124300000002%5D%2C%20%5B34.586557%2C%20-83.76124300000002%5D%2C%20%5B34.586557%2C%20-83.76124300000002%5D%2C%20%5B34.586557%2C%20-83.76124300000002%5D%2C%20%5B34.586557%2C%20-83.76124300000002%5D%2C%20%5B34.586557%2C%20-83.76124300000002%5D%2C%20%5B33.209176%2C%20-86.345675%5D%2C%20%5B33.52%2C%20-86.79%5D%2C%20%5B33.52%2C%20-86.79%5D%2C%20%5B34.586557%2C%20-83.76124300000002%5D%2C%20%5B33.52%2C%20-86.79%5D%2C%20%5B34.586557%2C%20-83.76124300000002%5D%2C%20%5B34.586557%2C%20-83.76124300000002%5D%2C%20%5B34.586557%2C%20-83.76124300000002%5D%2C%20%5B34.586557%2C%20-83.76124300000002%5D%2C%20%5B34.586557%2C%20-83.76124300000002%5D%2C%20%5B33.209176%2C%20-86.345675%5D%2C%20%5B33.5242%2C%20-84.359%5D%2C%20%5B34.9506%2C%20-85.2432%5D%2C%20%5B33.168322%2C%20-87.491902%5D%2C%20%5B32.9229%2C%20-86.545%5D%2C%20%5B33.52%2C%20-86.79%5D%2C%20%5B33.52%2C%20-86.79%5D%2C%20%5B33.52%2C%20-86.79%5D%2C%20%5B33.354119%2C%20-86.866665%5D%2C%20%5B33.772519%2C%20-86.47519100000002%5D%2C%20%5B34.586557%2C%20-83.76124300000002%5D%2C%20%5B34.586557%2C%20-83.76124300000002%5D%2C%20%5B34.586557%2C%20-83.76124300000002%5D%2C%20%5B34.586557%2C%20-83.76124300000002%5D%2C%20%5B34.586557%2C%20-83.76124300000002%5D%2C%20%5B34.586557%2C%20-83.76124300000002%5D%2C%20%5B34.586557%2C%20-83.76124300000002%5D%2C%20%5B34.586557%2C%20-83.76124300000002%5D%2C%20%5B34.586557%2C%20-83.76124300000002%5D%2C%20%5B34.586557%2C%20-83.76124300000002%5D%2C%20%5B34.586557%2C%20-83.76124300000002%5D%2C%20%5B34.586557%2C%20-83.76124300000002%5D%2C%20%5B34.586557%2C%20-83.76124300000002%5D%2C%20%5B34.586557%2C%20-83.76124300000002%5D%2C%20%5B34.586557%2C%20-83.76124300000002%5D%2C%20%5B33.669601%2C%20-86.817617%5D%2C%20%5B33.6339%2C%20-86.5981%5D%2C%20%5B33.6339%2C%20-86.5981%5D%2C%20%5B33.6339%2C%20-86.5981%5D%2C%20%5B33.6339%2C%20-86.5981%5D%2C%20%5B33.6339%2C%20-86.5981%5D%2C%20%5B33.455361%2C%20-86.962474%5D%2C%20%5B33.6339%2C%20-86.5981%5D%2C%20%5B32.930001000000004%2C%20-86.656036%5D%2C%20%5B34.2621%2C%20-86.9125%5D%2C%20%5B33.455361%2C%20-86.962474%5D%2C%20%5B33.3813%2C%20-86.7046%5D%2C%20%5B33.455361%2C%20-86.962474%5D%2C%20%5B33.6974%2C%20-87.8346%5D%2C%20%5B33.20968%2C%20-86.783066%5D%2C%20%5B33.209507%2C%20-86.783323%5D%2C%20%5B33.209537%2C%20-86.78340899999998%5D%2C%20%5B33.209106%2C%20-86.782551%5D%2C%20%5B33.209537%2C%20-86.78340899999998%5D%2C%20%5B33.3813%2C%20-86.7046%5D%2C%20%5B33.209249%2C%20-86.78358100000001%5D%2C%20%5B33.209967%2C%20-86.783066%5D%2C%20%5B33.428000000000004%2C%20-86.105%5D%2C%20%5B33.209824%2C%20-86.78340899999998%5D%2C%20%5B33.209537%2C%20-86.783066%5D%2C%20%5B34.932357%2C%20-88.541651%5D%2C%20%5B33.384664%2C%20-86.737847%5D%2C%20%5B34.98174%2C%20-88.46509%5D%2C%20%5B34.931513%2C%20-88.543367%5D%2C%20%5B34.932076%2C%20-88.543367%5D%2C%20%5B34.982162%2C%20-88.46474599999998%5D%2C%20%5B34.982021%2C%20-88.46491800000003%5D%2C%20%5B33.4816%2C%20-86.859%5D%2C%20%5B34.932076%2C%20-88.542681%5D%2C%20%5B33.455361%2C%20-86.962474%5D%2C%20%5B33.3967%2C%20-86.8346%5D%2C%20%5B33.4461%2C%20-86.4917%5D%2C%20%5B33.3967%2C%20-86.8346%5D%2C%20%5B36.1379%2C%20-86.741%5D%2C%20%5B34.188155%2C%20-86.851389%5D%2C%20%5B33.455361%2C%20-86.962474%5D%2C%20%5B33.52%2C%20-86.79%5D%2C%20%5B33.52%2C%20-86.79%5D%2C%20%5B29.818173%2C%20-95.668628%5D%2C%20%5B29.818173%2C%20-95.668628%5D%2C%20%5B34.188155%2C%20-86.851389%5D%2C%20%5B33.669601%2C%20-86.817617%5D%2C%20%5B34.188155%2C%20-86.851389%5D%2C%20%5B33.52%2C%20-86.79%5D%2C%20%5B33.52%2C%20-86.79%5D%2C%20%5B33.52%2C%20-86.79%5D%2C%20%5B33.6328%2C%20-86.6493%5D%2C%20%5B33.2932%2C%20-86.76799999999999%5D%2C%20%5B33.384664%2C%20-86.737847%5D%2C%20%5B33.384664%2C%20-86.737847%5D%2C%20%5B33.384664%2C%20-86.737847%5D%2C%20%5B33.384664%2C%20-86.737847%5D%2C%20%5B33.384664%2C%20-86.737847%5D%2C%20%5B33.385067%2C%20-86.73504%5D%2C%20%5B33.384664%2C%20-86.737847%5D%2C%20%5B33.384664%2C%20-86.737847%5D%2C%20%5B33.384664%2C%20-86.737847%5D%2C%20%5B33.384664%2C%20-86.737847%5D%2C%20%5B33.384664%2C%20-86.737847%5D%2C%20%5B33.384664%2C%20-86.737847%5D%2C%20%5B32.9229%2C%20-86.545%5D%2C%20%5B33.168322%2C%20-87.491902%5D%2C%20%5B33.406222%2C%20-86.959941%5D%2C%20%5B33.52%2C%20-86.79%5D%2C%20%5B33.4951%2C%20-86.8059%5D%2C%20%5B33.669601%2C%20-86.817617%5D%2C%20%5B33.5283%2C%20-86.5748%5D%2C%20%5B33.0706%2C%20-86.71799999999998%5D%2C%20%5B33.455361%2C%20-86.962474%5D%2C%20%5B32.8653%2C%20-96.9905%5D%2C%20%5B33.5242%2C%20-84.359%5D%2C%20%5B33.5242%2C%20-84.359%5D%2C%20%5B33.604526%2C%20-86.27975500000002%5D%2C%20%5B33.604597%2C%20-86.27975500000002%5D%2C%20%5B33.242995%2C%20-86.81737700000002%5D%2C%20%5B33.604454%2C%20-86.28027%5D%2C%20%5B33.455361%2C%20-86.962474%5D%2C%20%5B33.238811%2C%20-86.634407%5D%2C%20%5B33.521%2C%20-86.8066%5D%2C%20%5B34.188155%2C%20-86.851389%5D%2C%20%5B34.9506%2C%20-85.2432%5D%2C%20%5B33.209824%2C%20-86.783237%5D%2C%20%5B34.9506%2C%20-85.2432%5D%2C%20%5B33.830094%2C%20-84.19836%5D%2C%20%5B33.20968%2C%20-86.783237%5D%2C%20%5B33.209537%2C%20-86.783237%5D%2C%20%5B33.20968%2C%20-86.78340899999998%5D%2C%20%5B33.20968%2C%20-86.782894%5D%2C%20%5B33.20968%2C%20-86.783066%5D%2C%20%5B33.209824%2C%20-86.783237%5D%2C%20%5B33.20968%2C%20-86.783066%5D%2C%20%5B33.521%2C%20-86.8066%5D%2C%20%5B33.209824%2C%20-86.782894%5D%2C%20%5B33.209393%2C%20-86.783066%5D%2C%20%5B33.455361%2C%20-86.962474%5D%2C%20%5B33.5242%2C%20-84.359%5D%2C%20%5B36.0127%2C%20-86.56%5D%2C%20%5B29.818173%2C%20-95.668628%5D%2C%20%5B29.818173%2C%20-95.668628%5D%2C%20%5B29.818173%2C%20-95.668628%5D%2C%20%5B29.818173%2C%20-95.668628%5D%2C%20%5B29.818173%2C%20-95.668628%5D%2C%20%5B29.818173%2C%20-95.668628%5D%2C%20%5B29.818173%2C%20-95.668628%5D%2C%20%5B29.818173%2C%20-95.668628%5D%2C%20%5B29.818173%2C%20-95.668628%5D%2C%20%5B29.818173%2C%20-95.668628%5D%2C%20%5B29.818173%2C%20-95.668628%5D%2C%20%5B29.818173%2C%20-95.668628%5D%2C%20%5B29.818173%2C%20-95.668628%5D%2C%20%5B29.818173%2C%20-95.668628%5D%2C%20%5B29.818173%2C%20-95.668628%5D%2C%20%5B29.818173%2C%20-95.668628%5D%2C%20%5B29.818173%2C%20-95.668628%5D%2C%20%5B29.818173%2C%20-95.668628%5D%2C%20%5B29.818173%2C%20-95.668628%5D%2C%20%5B29.818173%2C%20-95.668628%5D%2C%20%5B29.818173%2C%20-95.668628%5D%2C%20%5B29.818173%2C%20-95.668628%5D%2C%20%5B29.818173%2C%20-95.668628%5D%2C%20%5B29.818173%2C%20-95.668628%5D%2C%20%5B29.818173%2C%20-95.668628%5D%2C%20%5B29.818173%2C%20-95.668628%5D%2C%20%5B29.818173%2C%20-95.668628%5D%2C%20%5B33.468%2C%20-87.0924%5D%2C%20%5B34.339168%2C%20-84.021823%5D%2C%20%5B34.339168%2C%20-84.021823%5D%2C%20%5B33.495598%2C%20-86.777916%5D%2C%20%5B34.339168%2C%20-84.021823%5D%2C%20%5B33.455361%2C%20-86.962474%5D%2C%20%5B33.5554%2C%20-86.887%5D%2C%20%5B33.1248%2C%20-86.8622%5D%2C%20%5B33.52%2C%20-86.79%5D%2C%20%5B33.5242%2C%20-84.359%5D%2C%20%5B32.9229%2C%20-86.545%5D%2C%20%5B33.455361%2C%20-86.962474%5D%2C%20%5B33.5242%2C%20-84.359%5D%2C%20%5B33.5242%2C%20-84.359%5D%2C%20%5B33.3538%2C%20-86.8254%5D%2C%20%5B34.0025%2C%20-84.4633%5D%2C%20%5B33.8529%2C%20-86.8198%5D%2C%20%5B33.669601%2C%20-86.817617%5D%2C%20%5B33.242977%2C%20-86.817312%5D%2C%20%5B27.907158000000006%2C%20-82.78750600000002%5D%2C%20%5B33.242977%2C%20-86.817355%5D%2C%20%5B33.243013%2C%20-86.81737700000002%5D%2C%20%5B33.242977%2C%20-86.81737700000002%5D%2C%20%5B34.2507%2C%20-85.1465%5D%2C%20%5B33.52%2C%20-86.79%5D%2C%20%5B33.52%2C%20-86.79%5D%2C%20%5B33.52%2C%20-86.79%5D%2C%20%5B33.52%2C%20-86.79%5D%2C%20%5B33.546749%2C%20-86.539801%5D%2C%20%5B33.546749%2C%20-86.539801%5D%2C%20%5B33.546749%2C%20-86.539801%5D%2C%20%5B33.168322%2C%20-87.491902%5D%2C%20%5B33.52%2C%20-86.79%5D%2C%20%5B33.669601%2C%20-86.817617%5D%2C%20%5B33.3967%2C%20-86.8346%5D%2C%20%5B33.4711%2C%20-86.8084%5D%2C%20%5B33.6339%2C%20-86.5981%5D%2C%20%5B33.6339%2C%20-86.5981%5D%2C%20%5B33.6339%2C%20-86.5981%5D%2C%20%5B33.2068%2C%20-87.15%5D%2C%20%5B33.649932%2C%20-87.000561%5D%2C%20%5B33.6493%2C%20-86.7057%5D%2C%20%5B33.455361%2C%20-86.962474%5D%2C%20%5B44.1202%2C%20-94.2184%5D%2C%20%5B33.455361%2C%20-86.962474%5D%2C%20%5B33.768%2C%20-87.1841%5D%2C%20%5B33.209789%2C%20-86.783493%5D%2C%20%5B33.4816%2C%20-86.859%5D%2C%20%5B33.209789%2C%20-86.783493%5D%2C%20%5B34.797308%2C%20-87.67450799999997%5D%2C%20%5B33.209789%2C%20-86.783493%5D%2C%20%5B33.455361%2C%20-86.962474%5D%2C%20%5B33.209789%2C%20-86.783493%5D%2C%20%5B33.209789%2C%20-86.783493%5D%2C%20%5B33.52%2C%20-86.79%5D%2C%20%5B33.52%2C%20-86.79%5D%2C%20%5B33.209789%2C%20-86.783493%5D%2C%20%5B33.52%2C%20-86.79%5D%2C%20%5B33.52%2C%20-86.79%5D%2C%20%5B33.52%2C%20-86.79%5D%2C%20%5B33.52%2C%20-86.79%5D%2C%20%5B33.6339%2C%20-86.5981%5D%2C%20%5B33.455361%2C%20-86.962474%5D%2C%20%5B33.209789%2C%20-86.783493%5D%2C%20%5B34.339168%2C%20-84.021823%5D%2C%20%5B34.339168%2C%20-84.021823%5D%2C%20%5B34.339168%2C%20-84.021823%5D%2C%20%5B34.339168%2C%20-84.021823%5D%2C%20%5B34.339168%2C%20-84.021823%5D%2C%20%5B33.293%2C%20-86.8035%5D%2C%20%5B33.209789%2C%20-86.783493%5D%2C%20%5B33.4838%2C%20-86.8881%5D%2C%20%5B33.209789%2C%20-86.783493%5D%2C%20%5B33.455361%2C%20-86.962474%5D%2C%20%5B33.209789%2C%20-86.783493%5D%2C%20%5B33.468%2C%20-87.0924%5D%2C%20%5B33.669601%2C%20-86.817617%5D%2C%20%5B33.7386%2C%20-86.4394%5D%2C%20%5B33.168322%2C%20-87.491902%5D%2C%20%5B33.7299%2C%20-86.6451%5D%2C%20%5B33.669601%2C%20-86.817617%5D%2C%20%5B33.6339%2C%20-86.5981%5D%2C%20%5B33.9778%2C%20-86.5598%5D%2C%20%5B33.455361%2C%20-86.962474%5D%2C%20%5B33.455361%2C%20-86.962474%5D%2C%20%5B33.455361%2C%20-86.962474%5D%2C%20%5B33.6339%2C%20-86.5981%5D%2C%20%5B33.209789%2C%20-86.783493%5D%2C%20%5B32.9164%2C%20-85.9368%5D%2C%20%5B33.455361%2C%20-86.962474%5D%2C%20%5B33.209789%2C%20-86.783493%5D%2C%20%5B33.209789%2C%20-86.783493%5D%2C%20%5B40.468826%2C%20-74.281734%5D%2C%20%5B40.468826%2C%20-74.281734%5D%2C%20%5B40.468826%2C%20-74.281734%5D%2C%20%5B40.468826%2C%20-74.281734%5D%2C%20%5B40.468826%2C%20-74.281734%5D%2C%20%5B33.455361%2C%20-86.962474%5D%2C%20%5B33.209789%2C%20-86.783493%5D%2C%20%5B40.468826%2C%20-74.281734%5D%2C%20%5B40.468826%2C%20-74.281734%5D%2C%20%5B40.468826%2C%20-74.281734%5D%2C%20%5B40.468826%2C%20-74.281734%5D%2C%20%5B40.468826%2C%20-74.281734%5D%2C%20%5B40.468826%2C%20-74.281734%5D%2C%20%5B40.468826%2C%20-74.281734%5D%2C%20%5B40.468826%2C%20-74.281734%5D%2C%20%5B40.468826%2C%20-74.281734%5D%2C%20%5B40.468826%2C%20-74.281734%5D%2C%20%5B40.468826%2C%20-74.281734%5D%2C%20%5B40.468826%2C%20-74.281734%5D%2C%20%5B40.468826%2C%20-74.281734%5D%2C%20%5B40.468826%2C%20-74.281734%5D%2C%20%5B40.468826%2C%20-74.281734%5D%2C%20%5B40.468826%2C%20-74.281734%5D%2C%20%5B40.468826%2C%20-74.281734%5D%2C%20%5B40.468826%2C%20-74.281734%5D%2C%20%5B40.468826%2C%20-74.281734%5D%2C%20%5B40.468826%2C%20-74.281734%5D%2C%20%5B40.468826%2C%20-74.281734%5D%2C%20%5B40.468826%2C%20-74.281734%5D%2C%20%5B33.6328%2C%20-86.6493%5D%2C%20%5B33.4188%2C%20-86.7867%5D%2C%20%5B33.209789%2C%20-86.783493%5D%2C%20%5B33.455361%2C%20-86.962474%5D%2C%20%5B33.209789%2C%20-86.783493%5D%2C%20%5B33.209789%2C%20-86.783493%5D%2C%20%5B33.455361%2C%20-86.962474%5D%2C%20%5B33.209789%2C%20-86.783493%5D%2C%20%5B33.52%2C%20-86.79%5D%2C%20%5B33.52%2C%20-86.79%5D%2C%20%5B34.2056%2C%20-86.85834%5D%2C%20%5B34.2056%2C%20-86.85834%5D%2C%20%5B33.209789%2C%20-86.783493%5D%2C%20%5B33.3224%2C%20-86.9657%5D%2C%20%5B33.455361%2C%20-86.962474%5D%2C%20%5B33.209789%2C%20-86.783493%5D%2C%20%5B33.608000000000004%2C%20-86.6302%5D%2C%20%5B33.608000000000004%2C%20-86.6302%5D%2C%20%5B33.608000000000004%2C%20-86.6302%5D%2C%20%5B33.669601%2C%20-86.817617%5D%2C%20%5B33.52%2C%20-86.79%5D%2C%20%5B33.52%2C%20-86.79%5D%2C%20%5B32.9229%2C%20-86.545%5D%2C%20%5B34.1761%2C%20-86.8298%5D%2C%20%5B33.521%2C%20-86.8066%5D%2C%20%5B33.52%2C%20-86.79%5D%2C%20%5B33.168322%2C%20-87.491902%5D%2C%20%5B32.9229%2C%20-86.545%5D%2C%20%5B33.6989%2C%20-84.7454%5D%2C%20%5B33.52%2C%20-86.79%5D%2C%20%5B33.9135%2C%20-84.6859%5D%2C%20%5B33.9135%2C%20-84.6859%5D%2C%20%5B33.6989%2C%20-84.7454%5D%2C%20%5B33.8256%2C%20-87.0161%5D%2C%20%5B33.3967%2C%20-86.8346%5D%2C%20%5B33.669601%2C%20-86.817617%5D%2C%20%5B33.7299%2C%20-86.6451%5D%2C%20%5B33.7299%2C%20-86.6451%5D%2C%20%5B33.455361%2C%20-86.962474%5D%2C%20%5B33.971956%2C%20-86.05309799999998%5D%2C%20%5B33.971956%2C%20-86.05309799999998%5D%2C%20%5B33.971956%2C%20-86.05309799999998%5D%2C%20%5B33.455361%2C%20-86.962474%5D%2C%20%5B33.455361%2C%20-86.962474%5D%2C%20%5B32.332046000000005%2C%20-90.857163%5D%2C%20%5B32.332046000000005%2C%20-90.857163%5D%2C%20%5B33.243049%2C%20-86.81737700000002%5D%2C%20%5B33.243067%2C%20-86.817398%5D%2C%20%5B26.0218%2C%20-80.1891%5D%2C%20%5B33.243031%2C%20-86.817334%5D%2C%20%5B33.243013%2C%20-86.817334%5D%2C%20%5B33.242995%2C%20-86.817334%5D%2C%20%5B33.6493%2C%20-86.7057%5D%2C%20%5B33.242995%2C%20-86.817398%5D%2C%20%5B33.242977%2C%20-86.817334%5D%2C%20%5B33.243031%2C%20-86.817291%5D%2C%20%5B33.455361%2C%20-86.962474%5D%2C%20%5B33.6017%2C%20-86.8265%5D%2C%20%5B33.520789%2C%20-86.811768%5D%2C%20%5B33.209824%2C%20-86.783237%5D%2C%20%5B33.20968%2C%20-86.782894%5D%2C%20%5B33.209393%2C%20-86.783066%5D%2C%20%5B33.209824%2C%20-86.78340899999998%5D%2C%20%5B33.43114%2C%20-86.729637%5D%2C%20%5B33.455361%2C%20-86.962474%5D%2C%20%5B33.20968%2C%20-86.78340899999998%5D%2C%20%5B33.209106%2C%20-86.783066%5D%2C%20%5B33.209824%2C%20-86.782894%5D%2C%20%5B33.209537%2C%20-86.78358100000001%5D%2C%20%5B34.792797%2C%20-86.57730500000002%5D%2C%20%5B34.188155%2C%20-86.851389%5D%2C%20%5B33.5242%2C%20-84.359%5D%2C%20%5B33.455361%2C%20-86.962474%5D%2C%20%5B34.9506%2C%20-85.2432%5D%2C%20%5B34.188155%2C%20-86.851389%5D%2C%20%5B34.188155%2C%20-86.851389%5D%2C%20%5B36.1379%2C%20-86.741%5D%2C%20%5B33.455361%2C%20-86.962474%5D%2C%20%5B33.1934%2C%20-86.7944%5D%2C%20%5B36.1379%2C%20-86.741%5D%2C%20%5B32.9229%2C%20-86.545%5D%2C%20%5B32.9229%2C%20-86.545%5D%2C%20%5B33.4188%2C%20-86.7867%5D%2C%20%5B34.2056%2C%20-86.85834%5D%2C%20%5B34.2056%2C%20-86.85834%5D%2C%20%5B32.9229%2C%20-86.545%5D%2C%20%5B32.9229%2C%20-86.545%5D%2C%20%5B33.6756%2C%20-86.40899999999998%5D%2C%20%5B33.52%2C%20-86.79%5D%2C%20%5B33.455361%2C%20-86.962474%5D%2C%20%5B33.52%2C%20-86.79%5D%2C%20%5B33.52%2C%20-86.79%5D%2C%20%5B33.52%2C%20-86.79%5D%2C%20%5B33.52%2C%20-86.79%5D%2C%20%5B33.52%2C%20-86.79%5D%2C%20%5B33.7299%2C%20-86.6451%5D%2C%20%5B33.669601%2C%20-86.817617%5D%2C%20%5B34.9506%2C%20-85.2432%5D%2C%20%5B33.168322%2C%20-87.491902%5D%2C%20%5B33.168322%2C%20-87.491902%5D%2C%20%5B33.107705%2C%20-86.73435699999997%5D%2C%20%5B33.5242%2C%20-84.359%5D%2C%20%5B36.98557%2C%20-95.783673%5D%2C%20%5B33.409%2C%20-86.9475%5D%2C%20%5B33.971956%2C%20-86.05309799999998%5D%2C%20%5B33.971956%2C%20-86.05309799999998%5D%2C%20%5B33.971956%2C%20-86.05309799999998%5D%2C%20%5B33.971956%2C%20-86.05309799999998%5D%2C%20%5B33.669601%2C%20-86.817617%5D%2C%20%5B33.4188%2C%20-86.7867%5D%2C%20%5B33.4188%2C%20-86.7867%5D%2C%20%5B33.468%2C%20-87.0924%5D%2C%20%5B33.455361%2C%20-86.962474%5D%2C%20%5B34.339168%2C%20-84.021823%5D%5D%2C%0A%20%20%20%20%20%20%20%20%20%20%20%20%20%20%20%20%7B%0A%20%20%20%20%20%20%20%20%20%20%20%20%20%20%20%20%20%20%20%20minOpacity%3A%200.5%2C%0A%20%20%20%20%20%20%20%20%20%20%20%20%20%20%20%20%20%20%20%20maxZoom%3A%2018%2C%0A%20%20%20%20%20%20%20%20%20%20%20%20%20%20%20%20%20%20%20%20max%3A%201.0%2C%0A%20%20%20%20%20%20%20%20%20%20%20%20%20%20%20%20%20%20%20%20radius%3A%2025%2C%0A%20%20%20%20%20%20%20%20%20%20%20%20%20%20%20%20%20%20%20%20blur%3A%2015%2C%0A%20%20%20%20%20%20%20%20%20%20%20%20%20%20%20%20%20%20%20%20gradient%3A%20null%0A%20%20%20%20%20%20%20%20%20%20%20%20%20%20%20%20%20%20%20%20%7D%29%0A%20%20%20%20%20%20%20%20%20%20%20%20%20%20%20%20.addTo%28map_ed387331e88443d295cd4e327dcb344c%29%3B%0A%20%20%20%20%20%20%20%20%0A%3C/script%3E onload=\"this.contentDocument.open();this.contentDocument.write(    decodeURIComponent(this.getAttribute('data-html')));this.contentDocument.close();\" allowfullscreen webkitallowfullscreen mozallowfullscreen></iframe></div></div>"
            ],
            "text/plain": [
              "<folium.folium.Map at 0x7fde496f8110>"
            ]
          },
          "metadata": {
            "tags": []
          },
          "execution_count": 146
        }
      ]
    },
    {
      "cell_type": "code",
      "metadata": {
        "id": "lCb8wGtxaj3N"
      },
      "source": [
        ""
      ],
      "execution_count": null,
      "outputs": []
    },
    {
      "cell_type": "markdown",
      "metadata": {
        "id": "PoZit4nn7SPa"
      },
      "source": [
        "## Summary and Conclusion\r\n",
        "1. Region\r\n",
        "- After Springfield every region seems to report almost the same value \r\n",
        "- Quite a few regions with non existent values\r\n",
        "- 60% of the regions have value lower than 1000\r\n",
        "- A high number of higher regions seem to be concentrated in a certain range only\r\n",
        "- The dataset seems to have a no of big regions missing\r\n",
        "\r\n",
        "2. Entry prices\r\n",
        "- There seems to be one very high mrp and then theyy become more consitent\r\n",
        "- Only 1 listing higher than 10k price.\r\n",
        "\r\n",
        "3. Entry year\r\n",
        "- Starts from 1900 and till 2021(current)\r\n",
        "- Spread over 111 years\r\n",
        "- The year '2017' has the maximum no of listings\r\n",
        "\r\n",
        "4. Manufacturers\r\n",
        "- 44 different manufacturers\r\n",
        "- Ford has the maximum no of listings\r\n",
        "\r\n",
        "5. Condition of vehicle\r\n",
        "- There are 6 conditions in which vehicle are listed\r\n",
        "- Most of the vehicles are in good or excellent condition\r\n",
        "\r\n",
        "6. Latitude and Longitudes\r\n",
        "- Looking at heatmap it seems to have no of outliers"
      ]
    }
  ]
}